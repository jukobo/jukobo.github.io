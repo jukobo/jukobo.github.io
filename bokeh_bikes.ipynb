{
 "cells": [
  {
   "cell_type": "code",
   "execution_count": 33,
   "metadata": {},
   "outputs": [
    {
     "name": "stderr",
     "output_type": "stream",
     "text": [
      "WARNING:bokeh.core.validation.check:W-1008 (PALETTE_LENGTH_FACTORS_MISMATCH): Palette length does not match number of factors: ['Vanløse', 'Vesterbro-Kongens Enghave', 'Østerbro'] will be assigned to `nan_color` gray\n"
     ]
    }
   ],
   "source": [
    "from bokeh.models import ColumnDataSource, Whisker\n",
    "from bokeh.plotting import figure, show\n",
    "from bokeh.sampledata.autompg2 import autompg2 as df\n",
    "from bokeh.transform import factor_cmap, jitter\n",
    "from bokeh.models import Range1d\n",
    "import pandas as pd\n",
    "import math\n",
    "\n",
    "## Load data\n",
    "file = \"..\\Data\\cykelstativ.csv\"\n",
    "df = pd.read_csv(file)\n",
    "\n",
    "df = df[df[\"antal_pladser\"] != 0]\n",
    "df[\"bydel\"] = df[\"bydel\"].astype(str) \n",
    "df = df[df['bydel']!= \"nan\"]#OBS nan er fjernet\n",
    "classes = list(sorted(df[\"bydel\"].unique()))\n",
    "\n",
    "p = figure(height=750,width=1000, x_range=classes, background_fill_color=\"#efefef\",\n",
    "           title=\"Number of bike spot in each district\")\n",
    "p.xgrid.grid_line_color = None\n",
    "\n",
    "g = df.groupby(\"bydel\")\n",
    "upper = g.antal_pladser.quantile(0.80)\n",
    "lower = g.antal_pladser.quantile(0.20)\n",
    "source = ColumnDataSource(data=dict(base=classes, upper=upper, lower=lower))\n",
    "\n",
    "error = Whisker(base=\"base\", upper=\"upper\", lower=\"lower\", source=source,\n",
    "                level=\"annotation\", line_width=1)\n",
    "error.upper_head.size=20\n",
    "error.lower_head.size=20\n",
    "p.add_layout(error)\n",
    "\n",
    "p.scatter(jitter(\"bydel\", 0.3, range=p.x_range), \"antal_pladser\", source=df,\n",
    "          alpha=0.5, size=5, line_color=\"white\",\n",
    "          color=factor_cmap(\"bydel\", \"Light7\", classes))\n",
    "\n",
    "p.xaxis.major_label_orientation = math.pi/3 #\"vertical\"\n",
    "p.y_range = Range1d(0, 50)\n",
    "show(p)"
   ]
  }
 ],
 "metadata": {
  "kernelspec": {
   "display_name": "Python 3",
   "language": "python",
   "name": "python3"
  },
  "language_info": {
   "codemirror_mode": {
    "name": "ipython",
    "version": 3
   },
   "file_extension": ".py",
   "mimetype": "text/x-python",
   "name": "python",
   "nbconvert_exporter": "python",
   "pygments_lexer": "ipython3",
   "version": "3.10.5"
  }
 },
 "nbformat": 4,
 "nbformat_minor": 2
}
