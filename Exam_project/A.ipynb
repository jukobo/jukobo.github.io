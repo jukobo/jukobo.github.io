{
 "cells": [
  {
   "cell_type": "markdown",
   "metadata": {},
   "source": [
    "# Project Assignment A"
   ]
  },
  {
   "cell_type": "markdown",
   "metadata": {},
   "source": [
    "The first part of the final project is an 1 minute movie, which should explain the central idea/concept that you will investigate in your final project. You're making the movie so that the TAs and I can give you feedback, and so that other groups can steal your ideas (and you can steal ideas from them). The movie must contain the following\n",
    "\n",
    "* An explanation of the central idea behind your final project, e.g. think about questions such as\n",
    "    * What is the idea?\n",
    "    Investigate if the bike infrastructure is sufficentent for supporting environmental transition and if there is ennough bikestands for the daily coumuters of copenhagen.\n",
    "    * Which datasets do you need to explore the idea?\n",
    "    Bydele: https://www.opendata.dk/city-of-copenhagen/bydele\n",
    "    Cykelstativer placering: https://www.opendata.dk/city-of-copenhagen/cykelstativer?fbclid=IwAR0fmucqA3U4qdmu5B_kHfE_-gjd6phLZcfY12ZRtKv0dCYXevb_pr_Ff-Y_aem_AUEkMyBU2EZl4fTpAawJlwEMtZULAwYDxUS7hG_zYvh2ExF5jef_q1SofsuOA7rO8BAfHbbtRgKVLwaTtsjFu_Y8\n",
    "    * Why is it interesting?\n",
    "    Its interesting to se if the bikestands is distributed thoughout the city in a thoughtfull manner to, to make then avaiable for all citizants.\n",
    "* A mock up of the visualization that you wish to build. (Anything is fine here. Pen and paper, MS Paint, Inkscape, D3, Midjourney (or any other LLM), anything is OK).\n",
    "* Make sure you answer the questions\n",
    "    * What genre is it? (for Genres, see section 4.3 of the Segel and Heer paper)\n",
    "    * Why is that genre right for telling the story you want to communicate with the data\n",
    "* A walk-through of your preliminary data-analysis, addressing\n",
    "    * What is the total size of your data? (MB, number of rows, number of variables, etc)\n",
    "    There are 6181 datapoints. Some datapoints are filteret out as they included non valid values.\n",
    "    * What are other properties? (What is the date range? Is is it geo-data?, then a quick plot of locations, etc.)\n",
    "    * Show the fundamental distributions of the data (similar to the work we did on SF crime data)\n",
    "But other than that, there are no constraints. And we do appreciate funny/inventive/beautiful movies, although the academic content is most important. Note that we'll display the movie to the entire class.\n",
    "\n",
    "(The maximum length is 1 minutes, but its OK if the movie is shorter.)\n",
    "\n",
    "_Handing in the assignment: Simply upload your video to youtube or another video hosting site (the higher the resolution the better) and submit the link via DTU Learn._"
   ]
  },
  {
   "cell_type": "code",
   "execution_count": null,
   "metadata": {
    "vscode": {
     "languageId": "plaintext"
    }
   },
   "outputs": [],
   "source": [
    "import pandas as pd\n",
    "import matplotlib.pyplot as plt\n",
    "import numpy as np\n",
    "\n",
    "#ignore warnings\n",
    "import warnings\n",
    "warnings.filterwarnings('ignore')"
   ]
  }
 ],
 "metadata": {
  "language_info": {
   "name": "python"
  }
 },
 "nbformat": 4,
 "nbformat_minor": 2
}
