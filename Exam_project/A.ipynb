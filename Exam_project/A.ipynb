{
 "cells": [
  {
   "cell_type": "markdown",
   "metadata": {},
   "source": [
    "# Project Assignment A"
   ]
  },
  {
   "cell_type": "markdown",
   "metadata": {},
   "source": [
    "The first part of the final project is an 1 minute movie, which should explain the central idea/concept that you will investigate in your final project. You're making the movie so that the TAs and I can give you feedback, and so that other groups can steal your ideas (and you can steal ideas from them). The movie must contain the following\n",
    "\n",
    "* An explanation of the central idea behind your final project, e.g. think about questions such as\n",
    "    * What is the idea?\n",
    "\n",
    "    Investigate if the bike infrastructure is sufficentent for supporting environmental transition and if there is ennough bikestands for the daily coumuters of copenhagen.\n",
    "    * Which datasets do you need to explore the idea?\n",
    "\n",
    "    Bydele: https://www.opendata.dk/city-of-copenhagen/bydele\n",
    "    Cykelstativer placering: https://www.opendata.dk/city-of-copenhagen/cykelstativer?fbclid=IwAR0fmucqA3U4qdmu5B_kHfE_-gjd6phLZcfY12ZRtKv0dCYXevb_pr_Ff-Y_aem_AUEkMyBU2EZl4fTpAawJlwEMtZULAwYDxUS7hG_zYvh2ExF5jef_q1SofsuOA7rO8BAfHbbtRgKVLwaTtsjFu_Y8\n",
    "    * Why is it interesting?\n",
    "\n",
    "    Its interesting to se if the bikestands is distributed thoughout the city in a thoughtfull manner to, to make then avaiable for all citizants.\n",
    "* A mock up of the visualization that you wish to build. (Anything is fine here. Pen and paper, MS Paint, Inkscape, D3, Midjourney (or any other LLM), anything is OK).\n",
    "* Make sure you answer the questions\n",
    "    * What genre is it? (for Genres, see section 4.3 of the Segel and Heer paper)\n",
    "\n",
    "    Magazine style\n",
    "    * Why is that genre right for telling the story you want to communicate with the data\n",
    "\n",
    "    As this gives a better walk through the story of the data. \n",
    "* A walk-through of your preliminary data-analysis, addressing\n",
    "    * What is the total size of your data? (MB, number of rows, number of variables, etc) \n",
    "    \n",
    "    25 columns: different categories, 6186 rows: different bike stands --> 6142 rows without the bike stands with no spots. Some datapoints are filteret out as they included non valid values.The total size of the data is 1.47 MB, which do not include the geographical data (geojson), since it is loaded directly through the url.\n",
    "    * What are other properties? (What is the date range? Is is it geo-data?, then a quick plot of locations, etc.)\n",
    "\n",
    "    There is geodata\n",
    "\n",
    "    * Show the fundamental distributions of the data (similar to the work we did on SF crime data)\n",
    "\n",
    "    See the basic plots below\n",
    "\n",
    "But other than that, there are no constraints. And we do appreciate funny/inventive/beautiful movies, although the academic content is most important. Note that we'll display the movie to the entire class.\n",
    "\n",
    "(The maximum length is 1 minutes, but its OK if the movie is shorter.)\n",
    "\n",
    "_Handing in the assignment: Simply upload your video to youtube or another video hosting site (the higher the resolution the better) and submit the link via DTU Learn._"
   ]
  },
  {
   "cell_type": "code",
   "execution_count": 54,
   "metadata": {},
   "outputs": [],
   "source": [
    "import pandas as pd\n",
    "import matplotlib.pyplot as plt\n",
    "import numpy as np\n",
    "import plotly.express as px\n",
    "\n",
    "#ignore warnings\n",
    "import warnings\n",
    "warnings.filterwarnings('ignore')\n",
    "\n",
    "pd.options.plotting.backend = \"plotly\"\n"
   ]
  },
  {
   "cell_type": "code",
   "execution_count": 45,
   "metadata": {},
   "outputs": [
    {
     "data": {
      "text/html": [
       "<div>\n",
       "<style scoped>\n",
       "    .dataframe tbody tr th:only-of-type {\n",
       "        vertical-align: middle;\n",
       "    }\n",
       "\n",
       "    .dataframe tbody tr th {\n",
       "        vertical-align: top;\n",
       "    }\n",
       "\n",
       "    .dataframe thead th {\n",
       "        text-align: right;\n",
       "    }\n",
       "</style>\n",
       "<table border=\"1\" class=\"dataframe\">\n",
       "  <thead>\n",
       "    <tr style=\"text-align: right;\">\n",
       "      <th></th>\n",
       "      <th>FID</th>\n",
       "      <th>id</th>\n",
       "      <th>vejkode</th>\n",
       "      <th>vejnavn</th>\n",
       "      <th>park_id</th>\n",
       "      <th>bydel</th>\n",
       "      <th>stativ_type</th>\n",
       "      <th>stativ_placering</th>\n",
       "      <th>stativ_udformning</th>\n",
       "      <th>cykler_retning</th>\n",
       "      <th>...</th>\n",
       "      <th>reg_metode</th>\n",
       "      <th>reg_dato</th>\n",
       "      <th>rettet_dato</th>\n",
       "      <th>budget</th>\n",
       "      <th>projekt</th>\n",
       "      <th>faerdigmelding</th>\n",
       "      <th>projektbeskrivelse</th>\n",
       "      <th>stativ_fjernet</th>\n",
       "      <th>ogc_fid</th>\n",
       "      <th>wkb_geometry</th>\n",
       "    </tr>\n",
       "  </thead>\n",
       "  <tbody>\n",
       "    <tr>\n",
       "      <th>0</th>\n",
       "      <td>cykelstativ.1</td>\n",
       "      <td>6451</td>\n",
       "      <td>4.0</td>\n",
       "      <td>Abel Cathrines Gade</td>\n",
       "      <td>0.0</td>\n",
       "      <td>Vesterbro-Kongens Enghave</td>\n",
       "      <td>NO</td>\n",
       "      <td>På fortovsudvidelse</td>\n",
       "      <td>Enkeltsidet</td>\n",
       "      <td>Ikke registreret</td>\n",
       "      <td>...</td>\n",
       "      <td>Digitaliseret manuelt</td>\n",
       "      <td>2017-01-30T13:06:53.911</td>\n",
       "      <td>2018-08-09T11:04:28.195</td>\n",
       "      <td>2013.0</td>\n",
       "      <td>fase2</td>\n",
       "      <td>NaN</td>\n",
       "      <td>NaN</td>\n",
       "      <td>2</td>\n",
       "      <td>1</td>\n",
       "      <td>POINT (12.559765094348965 55.67128132114399)</td>\n",
       "    </tr>\n",
       "    <tr>\n",
       "      <th>1</th>\n",
       "      <td>cykelstativ.2</td>\n",
       "      <td>6450</td>\n",
       "      <td>4.0</td>\n",
       "      <td>Abel Cathrines Gade</td>\n",
       "      <td>0.0</td>\n",
       "      <td>Vesterbro-Kongens Enghave</td>\n",
       "      <td>NO</td>\n",
       "      <td>På fortovsudvidelse</td>\n",
       "      <td>Enkeltsidet</td>\n",
       "      <td>Ikke registreret</td>\n",
       "      <td>...</td>\n",
       "      <td>Digitaliseret manuelt</td>\n",
       "      <td>2017-01-30T13:06:53.911</td>\n",
       "      <td>2018-08-09T11:04:28.195</td>\n",
       "      <td>2013.0</td>\n",
       "      <td>fase2</td>\n",
       "      <td>NaN</td>\n",
       "      <td>NaN</td>\n",
       "      <td>2</td>\n",
       "      <td>2</td>\n",
       "      <td>POINT (12.559911715583816 55.671311681209765)</td>\n",
       "    </tr>\n",
       "    <tr>\n",
       "      <th>2</th>\n",
       "      <td>cykelstativ.3</td>\n",
       "      <td>7174</td>\n",
       "      <td>20.0</td>\n",
       "      <td>Absalonsgade</td>\n",
       "      <td>0.0</td>\n",
       "      <td>Vesterbro-Kongens Enghave</td>\n",
       "      <td>Ikke registreret</td>\n",
       "      <td>Ikke registreret</td>\n",
       "      <td>Ikke registreret</td>\n",
       "      <td>Ikke registreret</td>\n",
       "      <td>...</td>\n",
       "      <td>Digitaliseret manuelt</td>\n",
       "      <td>2017-02-13T12:08:50.971</td>\n",
       "      <td>2018-08-09T11:04:28.195</td>\n",
       "      <td>2013.0</td>\n",
       "      <td>fase2</td>\n",
       "      <td>NaN</td>\n",
       "      <td>Bedre Cykelparkering</td>\n",
       "      <td>2</td>\n",
       "      <td>3</td>\n",
       "      <td>POINT (12.553729150827518 55.672336909066956)</td>\n",
       "    </tr>\n",
       "    <tr>\n",
       "      <th>3</th>\n",
       "      <td>cykelstativ.4</td>\n",
       "      <td>7176</td>\n",
       "      <td>20.0</td>\n",
       "      <td>Absalonsgade</td>\n",
       "      <td>0.0</td>\n",
       "      <td>Vesterbro-Kongens Enghave</td>\n",
       "      <td>Ikke registreret</td>\n",
       "      <td>Ikke registreret</td>\n",
       "      <td>Ikke registreret</td>\n",
       "      <td>Ikke registreret</td>\n",
       "      <td>...</td>\n",
       "      <td>Digitaliseret manuelt</td>\n",
       "      <td>2017-02-13T12:08:50.971</td>\n",
       "      <td>2018-08-09T11:04:28.195</td>\n",
       "      <td>2013.0</td>\n",
       "      <td>fase2</td>\n",
       "      <td>NaN</td>\n",
       "      <td>Bedre Cykelparkering</td>\n",
       "      <td>2</td>\n",
       "      <td>4</td>\n",
       "      <td>POINT (12.553918250884836 55.671839790852005)</td>\n",
       "    </tr>\n",
       "    <tr>\n",
       "      <th>4</th>\n",
       "      <td>cykelstativ.5</td>\n",
       "      <td>6020</td>\n",
       "      <td>20.0</td>\n",
       "      <td>Absalonsgade</td>\n",
       "      <td>0.0</td>\n",
       "      <td>Vesterbro-Kongens Enghave</td>\n",
       "      <td>NO</td>\n",
       "      <td>På fortovsudvidelse</td>\n",
       "      <td>Enkeltsidet</td>\n",
       "      <td>Vinkelret</td>\n",
       "      <td>...</td>\n",
       "      <td>Digitaliseret manuelt</td>\n",
       "      <td>2016-05-30T12:45:44.181</td>\n",
       "      <td>2018-08-09T11:04:28.195</td>\n",
       "      <td>NaN</td>\n",
       "      <td>NaN</td>\n",
       "      <td>NaN</td>\n",
       "      <td>NaN</td>\n",
       "      <td>2</td>\n",
       "      <td>5</td>\n",
       "      <td>POINT (12.555136731580014 55.66983957166722)</td>\n",
       "    </tr>\n",
       "  </tbody>\n",
       "</table>\n",
       "<p>5 rows × 25 columns</p>\n",
       "</div>"
      ],
      "text/plain": [
       "             FID    id  vejkode              vejnavn  park_id  \\\n",
       "0  cykelstativ.1  6451      4.0  Abel Cathrines Gade      0.0   \n",
       "1  cykelstativ.2  6450      4.0  Abel Cathrines Gade      0.0   \n",
       "2  cykelstativ.3  7174     20.0         Absalonsgade      0.0   \n",
       "3  cykelstativ.4  7176     20.0         Absalonsgade      0.0   \n",
       "4  cykelstativ.5  6020     20.0         Absalonsgade      0.0   \n",
       "\n",
       "                       bydel       stativ_type     stativ_placering  \\\n",
       "0  Vesterbro-Kongens Enghave                NO  På fortovsudvidelse   \n",
       "1  Vesterbro-Kongens Enghave                NO  På fortovsudvidelse   \n",
       "2  Vesterbro-Kongens Enghave  Ikke registreret     Ikke registreret   \n",
       "3  Vesterbro-Kongens Enghave  Ikke registreret     Ikke registreret   \n",
       "4  Vesterbro-Kongens Enghave                NO  På fortovsudvidelse   \n",
       "\n",
       "  stativ_udformning    cykler_retning  ...             reg_metode  \\\n",
       "0       Enkeltsidet  Ikke registreret  ...  Digitaliseret manuelt   \n",
       "1       Enkeltsidet  Ikke registreret  ...  Digitaliseret manuelt   \n",
       "2  Ikke registreret  Ikke registreret  ...  Digitaliseret manuelt   \n",
       "3  Ikke registreret  Ikke registreret  ...  Digitaliseret manuelt   \n",
       "4       Enkeltsidet         Vinkelret  ...  Digitaliseret manuelt   \n",
       "\n",
       "                  reg_dato              rettet_dato  budget projekt  \\\n",
       "0  2017-01-30T13:06:53.911  2018-08-09T11:04:28.195  2013.0   fase2   \n",
       "1  2017-01-30T13:06:53.911  2018-08-09T11:04:28.195  2013.0   fase2   \n",
       "2  2017-02-13T12:08:50.971  2018-08-09T11:04:28.195  2013.0   fase2   \n",
       "3  2017-02-13T12:08:50.971  2018-08-09T11:04:28.195  2013.0   fase2   \n",
       "4  2016-05-30T12:45:44.181  2018-08-09T11:04:28.195     NaN     NaN   \n",
       "\n",
       "  faerdigmelding    projektbeskrivelse stativ_fjernet  ogc_fid  \\\n",
       "0            NaN                   NaN              2        1   \n",
       "1            NaN                   NaN              2        2   \n",
       "2            NaN  Bedre Cykelparkering              2        3   \n",
       "3            NaN  Bedre Cykelparkering              2        4   \n",
       "4            NaN                   NaN              2        5   \n",
       "\n",
       "                                    wkb_geometry  \n",
       "0   POINT (12.559765094348965 55.67128132114399)  \n",
       "1  POINT (12.559911715583816 55.671311681209765)  \n",
       "2  POINT (12.553729150827518 55.672336909066956)  \n",
       "3  POINT (12.553918250884836 55.671839790852005)  \n",
       "4   POINT (12.555136731580014 55.66983957166722)  \n",
       "\n",
       "[5 rows x 25 columns]"
      ]
     },
     "execution_count": 45,
     "metadata": {},
     "output_type": "execute_result"
    }
   ],
   "source": [
    "file = \"..\\..\\Data\\cykelstativ.csv\"\n",
    "df = pd.read_csv(file)\n",
    "\n",
    "df = df[df[\"antal_pladser\"] != 0]\n",
    "\n",
    "df.head()"
   ]
  },
  {
   "cell_type": "code",
   "execution_count": 87,
   "metadata": {},
   "outputs": [
    {
     "name": "stdout",
     "output_type": "stream",
     "text": [
      "Mean:  12.25383110531464\n",
      "Minimum:  1.0\n",
      "Maximum:  296.0\n"
     ]
    },
    {
     "data": {
      "application/vnd.plotly.v1+json": {
       "config": {
        "plotlyServerURL": "https://plot.ly"
       },
       "data": [
        {
         "alignmentgroup": "True",
         "bingroup": "x",
         "hovertemplate": "antal_pladser=%{x}<br>count=%{y}<extra></extra>",
         "legendgroup": "",
         "marker": {
          "color": "rgb(117,112,179)",
          "pattern": {
           "shape": ""
          }
         },
         "name": "",
         "offsetgroup": "",
         "orientation": "v",
         "showlegend": false,
         "type": "histogram",
         "x": [
          7,
          7,
          20,
          15,
          5,
          13,
          10,
          20,
          10,
          4,
          12,
          15,
          15,
          10,
          35,
          15,
          64,
          64,
          64,
          64,
          20,
          20,
          48,
          24,
          12,
          25,
          15,
          12,
          1,
          1,
          1,
          31,
          22,
          1,
          6,
          9,
          14,
          8,
          6,
          4,
          5,
          26,
          10,
          1,
          1,
          1,
          1,
          1,
          1,
          1,
          1,
          1,
          10,
          12,
          20,
          10,
          10,
          5,
          5,
          6,
          6,
          20,
          22,
          10,
          8,
          8,
          8,
          10,
          5,
          20,
          8,
          8,
          8,
          9,
          15,
          10,
          5,
          5,
          3,
          4,
          4,
          5,
          5,
          5,
          14,
          24,
          6,
          6,
          8,
          5,
          5,
          5,
          4,
          10,
          10,
          10,
          2,
          10,
          8,
          2,
          2,
          2,
          2,
          2,
          15,
          10,
          10,
          5,
          5,
          10,
          10,
          5,
          5,
          20,
          5,
          10,
          5,
          10,
          15,
          15,
          15,
          24,
          8,
          32,
          32,
          64,
          32,
          64,
          32,
          32,
          64,
          32,
          24,
          24,
          12,
          10,
          14,
          24,
          20,
          5,
          24,
          24,
          14,
          2,
          30,
          14,
          24,
          10,
          21,
          6,
          15,
          16,
          15,
          34,
          6,
          8,
          10,
          20,
          22,
          10,
          18,
          12,
          20,
          30,
          30,
          30,
          58,
          58,
          30,
          26,
          46,
          30,
          15,
          12,
          15,
          20,
          12,
          15,
          6,
          12,
          5,
          15,
          8,
          8,
          7,
          5,
          8,
          30,
          12,
          18,
          15,
          15,
          20,
          20,
          8,
          15,
          15,
          19,
          12,
          12,
          15,
          3,
          3,
          3,
          3,
          3,
          3,
          3,
          3,
          2,
          3,
          8,
          8,
          8,
          8,
          10,
          10,
          30,
          16,
          13,
          13,
          5,
          10,
          5,
          15,
          26,
          10,
          18,
          10,
          10,
          10,
          5,
          7,
          10,
          17,
          35,
          10,
          20,
          10,
          13,
          8,
          15,
          15,
          15,
          15,
          5,
          3,
          5,
          3,
          5,
          3,
          14,
          5,
          8,
          20,
          10,
          5,
          5,
          10,
          80,
          30,
          5,
          12,
          25,
          64,
          36,
          120,
          24,
          2,
          12,
          5,
          4,
          4,
          5,
          6,
          10,
          4,
          5,
          5,
          5,
          5,
          5,
          5,
          5,
          20,
          10,
          48,
          5,
          5,
          5,
          5,
          8,
          47,
          54,
          47,
          17,
          10,
          10,
          5,
          17,
          17,
          5,
          12,
          5,
          4,
          23,
          10,
          10,
          20,
          10,
          48,
          15,
          5,
          5,
          20,
          20,
          9,
          9,
          30,
          20,
          5,
          15,
          20,
          20,
          10,
          12,
          10,
          36,
          10,
          25,
          8,
          24,
          10,
          8,
          15,
          8,
          10,
          9,
          10,
          12,
          8,
          5,
          5,
          6,
          6,
          7,
          4,
          10,
          13,
          5,
          5,
          5,
          5,
          5,
          12,
          41,
          49,
          296,
          32,
          280,
          240,
          240,
          20,
          6,
          10,
          25,
          5,
          34,
          10,
          10,
          120,
          50,
          20,
          15,
          30,
          5,
          28,
          12,
          12,
          5,
          10,
          24,
          12,
          8,
          60,
          30,
          14,
          8,
          16,
          16,
          10,
          10,
          29,
          16,
          56,
          15,
          15,
          14,
          16,
          12,
          5,
          6,
          38,
          39,
          9,
          5,
          19,
          23,
          10,
          10,
          15,
          13,
          20,
          56,
          10,
          10,
          10,
          16,
          8,
          8,
          5,
          5,
          13,
          3,
          3,
          10,
          5,
          5,
          6,
          6,
          10,
          6,
          6,
          6,
          15,
          9,
          10,
          10,
          7,
          15,
          10,
          8,
          5,
          22,
          9,
          10,
          10,
          10,
          10,
          9,
          5,
          9,
          10,
          10,
          50,
          10,
          5,
          5,
          8,
          8,
          8,
          15,
          15,
          8,
          12,
          10,
          12,
          6,
          5,
          6,
          10,
          2,
          12,
          12,
          23,
          30,
          10,
          10,
          20,
          10,
          10,
          10,
          10,
          15,
          24,
          24,
          18,
          5,
          20,
          10,
          10,
          10,
          10,
          10,
          10,
          5,
          5,
          5,
          10,
          10,
          10,
          10,
          5,
          5,
          20,
          16,
          5,
          30,
          15,
          10,
          10,
          13,
          13,
          5,
          5,
          4,
          4,
          5,
          5,
          13,
          12,
          3,
          10,
          12,
          36,
          15,
          5,
          5,
          5,
          10,
          10,
          10,
          18,
          15,
          6,
          20,
          8,
          15,
          20,
          10,
          15,
          10,
          7,
          42,
          3,
          36,
          24,
          2,
          3,
          2,
          2,
          2,
          2,
          2,
          2,
          6,
          2,
          2,
          5,
          5,
          5,
          5,
          5,
          13,
          11,
          8,
          15,
          12,
          10,
          5,
          10,
          10,
          10,
          10,
          10,
          10,
          10,
          10,
          10,
          20,
          10,
          4,
          12,
          4,
          5,
          20,
          10,
          69,
          14,
          10,
          8,
          8,
          5,
          5,
          5,
          5,
          5,
          8,
          5,
          10,
          5,
          10,
          10,
          5,
          5,
          5,
          5,
          5,
          5,
          5,
          5,
          5,
          5,
          9,
          5,
          11,
          13,
          10,
          7,
          10,
          6,
          8,
          5,
          5,
          3,
          3,
          3,
          3,
          3,
          3,
          5,
          2,
          2,
          10,
          5,
          10,
          5,
          5,
          5,
          15,
          30,
          7,
          20,
          18,
          10,
          10,
          3,
          32,
          32,
          5,
          10,
          10,
          10,
          10,
          10,
          8,
          5,
          5,
          5,
          17,
          5,
          5,
          5,
          5,
          10,
          4,
          5,
          5,
          5,
          5,
          5,
          5,
          5,
          5,
          4,
          5,
          5,
          5,
          10,
          9,
          15,
          15,
          10,
          25,
          60,
          15,
          25,
          30,
          10,
          4,
          10,
          10,
          10,
          4,
          6,
          16,
          11,
          11,
          6,
          18,
          8,
          9,
          10,
          30,
          25,
          9,
          8,
          10,
          3,
          3,
          10,
          3,
          30,
          43,
          6,
          15,
          7,
          7,
          20,
          10,
          4,
          16,
          36,
          12,
          12,
          6,
          6,
          6,
          6,
          6,
          6,
          25,
          25,
          25,
          10,
          25,
          14,
          15,
          4,
          15,
          17,
          6,
          10,
          8,
          7,
          3,
          4,
          15,
          3,
          12,
          12,
          14,
          11,
          10,
          10,
          5,
          5,
          10,
          5,
          12,
          20,
          12,
          11,
          8,
          5,
          1,
          5,
          1,
          30,
          10,
          5,
          3,
          5,
          5,
          5,
          6,
          10,
          21,
          7,
          21,
          5,
          5,
          1,
          1,
          1,
          1,
          1,
          5,
          10,
          1,
          4,
          6,
          8,
          10,
          10,
          10,
          10,
          10,
          10,
          20,
          6,
          11,
          12,
          6,
          20,
          20,
          15,
          5,
          15,
          5,
          14,
          12,
          15,
          86,
          16,
          14,
          16,
          14,
          12,
          20,
          6,
          14,
          15,
          24,
          14,
          15,
          5,
          5,
          3,
          5,
          10,
          20,
          10,
          30,
          10,
          34,
          5,
          10,
          10,
          24,
          5,
          8,
          32,
          16,
          12,
          24,
          12,
          10,
          75,
          10,
          10,
          10,
          10,
          8,
          4,
          20,
          20,
          40,
          28,
          48,
          60,
          16,
          54,
          10,
          16,
          10,
          10,
          8,
          10,
          20,
          5,
          5,
          5,
          10,
          5,
          5,
          5,
          5,
          5,
          11,
          10,
          30,
          5,
          2,
          8,
          10,
          8,
          4,
          15,
          10,
          20,
          12,
          5,
          6,
          32,
          20,
          20,
          5,
          5,
          5,
          2,
          2,
          1,
          1,
          2,
          2,
          2,
          2,
          3,
          2,
          3,
          3,
          3,
          3,
          3,
          3,
          3,
          3,
          16,
          5,
          16,
          15,
          2,
          2,
          2,
          3,
          3,
          3,
          3,
          3,
          15,
          15,
          8,
          15,
          2,
          2,
          2,
          2,
          1,
          2,
          2,
          2,
          2,
          1,
          2,
          6,
          6,
          6,
          6,
          9,
          5,
          12,
          5,
          5,
          10,
          10,
          10,
          20,
          10,
          10,
          15,
          8,
          8,
          10,
          8,
          8,
          10,
          30,
          7,
          7,
          12,
          7,
          4,
          3,
          7,
          7,
          7,
          10,
          3,
          4,
          10,
          76,
          16,
          20,
          20,
          18,
          17,
          4,
          4,
          4,
          4,
          4,
          4,
          4,
          4,
          4,
          4,
          4,
          2,
          2,
          4,
          4,
          4,
          8,
          14,
          32,
          10,
          5,
          20,
          10,
          7,
          10,
          5,
          5,
          20,
          20,
          10,
          8,
          3,
          3,
          3,
          10,
          15,
          10,
          10,
          15,
          15,
          5,
          6,
          10,
          5,
          5,
          5,
          5,
          5,
          5,
          5,
          5,
          5,
          5,
          5,
          10,
          10,
          4,
          7,
          20,
          4,
          4,
          4,
          4,
          10,
          10,
          10,
          10,
          10,
          10,
          24,
          24,
          24,
          24,
          5,
          15,
          15,
          5,
          10,
          4,
          15,
          15,
          6,
          12,
          10,
          10,
          5,
          5,
          5,
          5,
          5,
          5,
          5,
          15,
          3,
          3,
          3,
          3,
          8,
          2,
          2,
          3,
          3,
          2,
          3,
          3,
          5,
          10,
          10,
          10,
          5,
          10,
          5,
          5,
          8,
          8,
          10,
          30,
          80,
          10,
          11,
          140,
          30,
          40,
          30,
          55,
          55,
          85,
          17,
          37,
          33,
          12,
          10,
          10,
          20,
          6,
          15,
          27,
          11,
          12,
          12,
          12,
          7,
          15,
          9,
          9,
          24,
          9,
          9,
          10,
          9,
          9,
          9,
          9,
          9,
          35,
          35,
          10,
          15,
          5,
          10,
          10,
          5,
          5,
          5,
          12,
          13,
          15,
          25,
          25,
          8,
          4,
          4,
          6,
          10,
          22,
          6,
          6,
          8,
          22,
          22,
          22,
          10,
          8,
          22,
          22,
          10,
          8,
          10,
          5,
          15,
          4,
          5,
          5,
          5,
          5,
          5,
          10,
          5,
          8,
          34,
          30,
          2,
          44,
          46,
          46,
          6,
          11,
          12,
          10,
          10,
          10,
          10,
          10,
          10,
          10,
          10,
          10,
          10,
          10,
          10,
          10,
          12,
          12,
          12,
          18,
          5,
          11,
          4,
          5,
          5,
          4,
          4,
          4,
          4,
          5,
          5,
          4,
          6,
          65,
          10,
          32,
          32,
          16,
          15,
          15,
          15,
          10,
          15,
          32,
          10,
          5,
          2,
          16,
          10,
          10,
          4,
          18,
          19,
          4,
          4,
          19,
          4,
          10,
          18,
          8,
          15,
          10,
          4,
          4,
          10,
          22,
          5,
          8,
          5,
          30,
          15,
          16,
          6,
          5,
          30,
          27,
          12,
          5,
          5,
          10,
          40,
          10,
          10,
          11,
          12,
          11,
          5,
          30,
          10,
          15,
          5,
          5,
          12,
          5,
          24,
          30,
          36,
          28,
          3,
          7,
          15,
          20,
          11,
          10,
          8,
          8,
          5,
          8,
          10,
          20,
          30,
          20,
          20,
          24,
          10,
          20,
          20,
          20,
          32,
          10,
          27,
          10,
          27,
          8,
          10,
          10,
          20,
          20,
          15,
          30,
          8,
          8,
          8,
          8,
          8,
          8,
          8,
          8,
          20,
          15,
          15,
          5,
          5,
          5,
          5,
          25,
          8,
          5,
          5,
          5,
          5,
          5,
          5,
          30,
          15,
          19,
          10,
          15,
          15,
          10,
          15,
          24,
          5,
          4,
          4,
          4,
          6,
          6,
          6,
          4,
          9,
          5,
          5,
          5,
          10,
          10,
          10,
          5,
          5,
          5,
          5,
          24,
          15,
          5,
          5,
          5,
          6,
          30,
          5,
          4,
          4,
          25,
          30,
          4,
          14,
          10,
          14,
          8,
          14,
          52,
          36,
          10,
          10,
          8,
          20,
          45,
          35,
          32,
          10,
          15,
          15,
          45,
          25,
          5,
          5,
          10,
          10,
          20,
          10,
          20,
          20,
          18,
          35,
          10,
          10,
          10,
          5,
          10,
          7,
          2,
          11,
          10,
          20,
          10,
          10,
          20,
          1,
          1,
          8,
          1,
          20,
          1,
          40,
          9,
          7,
          8,
          10,
          10,
          10,
          10,
          30,
          15,
          5,
          22,
          11,
          10,
          4,
          4,
          4,
          4,
          4,
          8,
          4,
          4,
          5,
          4,
          3,
          3,
          6,
          5,
          2,
          2,
          4,
          2,
          2,
          7,
          7,
          12,
          10,
          10,
          28,
          15,
          5,
          20,
          20,
          20,
          10,
          6,
          20,
          10,
          8,
          15,
          15,
          6,
          6,
          6,
          6,
          6,
          6,
          56,
          5,
          8,
          20,
          32,
          20,
          20,
          20,
          20,
          120,
          10,
          85,
          40,
          20,
          20,
          5,
          2,
          2,
          1,
          1,
          2,
          2,
          2,
          1,
          2,
          1,
          2,
          2,
          5,
          2,
          1,
          10,
          8,
          15,
          20,
          6,
          6,
          6,
          6,
          6,
          6,
          6,
          6,
          8,
          5,
          5,
          5,
          10,
          40,
          5,
          5,
          5,
          15,
          80,
          10,
          5,
          10,
          5,
          10,
          10,
          10,
          10,
          5,
          11,
          5,
          10,
          16,
          24,
          10,
          35,
          10,
          14,
          30,
          14,
          30,
          5,
          5,
          5,
          5,
          5,
          5,
          5,
          5,
          5,
          5,
          5,
          8,
          16,
          12,
          8,
          8,
          8,
          8,
          8,
          10,
          12,
          8,
          5,
          5,
          5,
          12,
          10,
          30,
          15,
          15,
          15,
          10,
          12,
          18,
          10,
          18,
          10,
          8,
          8,
          10,
          6,
          5,
          5,
          5,
          7,
          5,
          20,
          5,
          24,
          8,
          7,
          7,
          20,
          20,
          20,
          7,
          7,
          7,
          7,
          7,
          7,
          10,
          5,
          5,
          5,
          5,
          10,
          10,
          10,
          10,
          10,
          10,
          10,
          10,
          10,
          15,
          40,
          8,
          8,
          8,
          8,
          5,
          5,
          5,
          8,
          8,
          6,
          6,
          6,
          6,
          3,
          35,
          20,
          20,
          20,
          30,
          20,
          20,
          25,
          5,
          5,
          7,
          6,
          5,
          10,
          5,
          5,
          10,
          10,
          7,
          16,
          7,
          10,
          6,
          5,
          5,
          5,
          10,
          10,
          10,
          5,
          31,
          10,
          5,
          5,
          5,
          10,
          9,
          5,
          47,
          8,
          8,
          8,
          13,
          8,
          7,
          7,
          8,
          8,
          10,
          2,
          2,
          11,
          10,
          10,
          15,
          10,
          35,
          16,
          15,
          10,
          12,
          58,
          6,
          12,
          5,
          5,
          10,
          10,
          5,
          10,
          5,
          10,
          10,
          10,
          10,
          10,
          10,
          10,
          10,
          5,
          5,
          5,
          5,
          5,
          5,
          5,
          5,
          12,
          10,
          8,
          5,
          15,
          23,
          5,
          10,
          5,
          10,
          5,
          5,
          5,
          5,
          5,
          8,
          8,
          5,
          5,
          8,
          4,
          7,
          5,
          8,
          6,
          2,
          6,
          2,
          6,
          6,
          5,
          7,
          8,
          7,
          7,
          5,
          5,
          20,
          12,
          10,
          10,
          4,
          10,
          5,
          6,
          10,
          5,
          10,
          5,
          5,
          22,
          5,
          5,
          15,
          5,
          15,
          15,
          5,
          6,
          6,
          5,
          6,
          5,
          16,
          20,
          5,
          22,
          5,
          3,
          8,
          3,
          8,
          10,
          6,
          5,
          21,
          6,
          6,
          9,
          5,
          5,
          4,
          5,
          4,
          11,
          5,
          5,
          5,
          5,
          5,
          10,
          8,
          2,
          5,
          5,
          4,
          10,
          8,
          4,
          5,
          10,
          6,
          3,
          6,
          12,
          5,
          2,
          5,
          6,
          2,
          15,
          5,
          10,
          5,
          5,
          4,
          8,
          8,
          5,
          10,
          7,
          10,
          46,
          10,
          14,
          14,
          4,
          6,
          5,
          5,
          5,
          15,
          5,
          5,
          5,
          5,
          18,
          15,
          5,
          6,
          5,
          17,
          5,
          6,
          6,
          8,
          8,
          10,
          10,
          12,
          15,
          10,
          10,
          5,
          5,
          5,
          6,
          12,
          24,
          10,
          4,
          23,
          20,
          4,
          4,
          5,
          5,
          5,
          5,
          5,
          5,
          5,
          5,
          5,
          20,
          20,
          15,
          48,
          16,
          3,
          8,
          8,
          5,
          6,
          12,
          4,
          27,
          23,
          8,
          24,
          16,
          8,
          5,
          5,
          5,
          5,
          20,
          6,
          6,
          14,
          10,
          36,
          12,
          8,
          8,
          8,
          6,
          8,
          5,
          11,
          10,
          8,
          8,
          8,
          2,
          8,
          8,
          8,
          8,
          8,
          24,
          8,
          8,
          8,
          8,
          8,
          8,
          8,
          8,
          8,
          8,
          8,
          16,
          8,
          8,
          16,
          8,
          8,
          8,
          8,
          8,
          2,
          2,
          2,
          2,
          2,
          2,
          2,
          8,
          10,
          10,
          12,
          8,
          8,
          8,
          8,
          8,
          8,
          40,
          8,
          8,
          8,
          8,
          8,
          8,
          8,
          8,
          8,
          8,
          25,
          10,
          32,
          56,
          56,
          3,
          19,
          23,
          10,
          10,
          9,
          10,
          5,
          10,
          10,
          10,
          5,
          5,
          15,
          5,
          5,
          5,
          5,
          5,
          5,
          5,
          5,
          5,
          12,
          18,
          14,
          5,
          5,
          5,
          5,
          5,
          5,
          5,
          5,
          10,
          12,
          15,
          24,
          10,
          8,
          20,
          10,
          4,
          20,
          14,
          14,
          14,
          14,
          14,
          14,
          14,
          14,
          14,
          14,
          14,
          14,
          14,
          12,
          15,
          11,
          20,
          20,
          5,
          3,
          12,
          12,
          6,
          5,
          5,
          5,
          10,
          10,
          3,
          8,
          8,
          3,
          5,
          5,
          5,
          5,
          5,
          5,
          5,
          5,
          2,
          2,
          11,
          10,
          10,
          5,
          15,
          4,
          4,
          4,
          8,
          52,
          55,
          4,
          4,
          5,
          15,
          5,
          10,
          5,
          20,
          20,
          20,
          10,
          20,
          8,
          8,
          12,
          10,
          10,
          10,
          10,
          10,
          5,
          24,
          80,
          20,
          12,
          10,
          4,
          5,
          15,
          10,
          44,
          7,
          24,
          32,
          24,
          10,
          5,
          10,
          10,
          8,
          8,
          40,
          20,
          10,
          30,
          8,
          8,
          8,
          10,
          18,
          20,
          16,
          24,
          16,
          16,
          16,
          56,
          18,
          6,
          6,
          14,
          10,
          5,
          5,
          5,
          5,
          5,
          5,
          5,
          5,
          5,
          10,
          10,
          35,
          25,
          10,
          10,
          60,
          18,
          42,
          6,
          56,
          140,
          43,
          25,
          18,
          10,
          30,
          5,
          5,
          40,
          108,
          18,
          32,
          90,
          5,
          15,
          15,
          10,
          6,
          6,
          39,
          70,
          25,
          10,
          40,
          26,
          30,
          4,
          4,
          4,
          4,
          5,
          25,
          5,
          10,
          21,
          20,
          10,
          10,
          32,
          10,
          15,
          30,
          10,
          15,
          15,
          20,
          4,
          4,
          4,
          4,
          4,
          8,
          8,
          12,
          12,
          12,
          24,
          12,
          5,
          10,
          10,
          5,
          6,
          12,
          5,
          10,
          5,
          6,
          6,
          5,
          4,
          12,
          15,
          10,
          31,
          10,
          12,
          17,
          11,
          8,
          6,
          6,
          6,
          24,
          20,
          5,
          5,
          10,
          20,
          10,
          10,
          10,
          5,
          15,
          15,
          10,
          40,
          40,
          10,
          10,
          15,
          15,
          32,
          20,
          10,
          10,
          40,
          40,
          40,
          20,
          40,
          32,
          35,
          14,
          10,
          20,
          10,
          20,
          8,
          8,
          8,
          6,
          10,
          12,
          10,
          14,
          10,
          8,
          5,
          10,
          10,
          null,
          6,
          6,
          20,
          5,
          10,
          35,
          30,
          20,
          20,
          25,
          20,
          13,
          5,
          10,
          25,
          15,
          15,
          7,
          16,
          23,
          20,
          6,
          5,
          5,
          5,
          5,
          5,
          5,
          5,
          5,
          5,
          5,
          5,
          5,
          5,
          5,
          18,
          5,
          5,
          5,
          5,
          5,
          23,
          23,
          25,
          5,
          8,
          5,
          4,
          3,
          10,
          6,
          10,
          5,
          5,
          10,
          15,
          5,
          5,
          15,
          9,
          15,
          25,
          20,
          10,
          10,
          10,
          20,
          30,
          12,
          5,
          2,
          32,
          24,
          2,
          10,
          15,
          14,
          14,
          14,
          14,
          14,
          2,
          10,
          24,
          3,
          36,
          35,
          33,
          4,
          4,
          15,
          15,
          15,
          4,
          4,
          4,
          4,
          4,
          4,
          4,
          15,
          15,
          50,
          6,
          12,
          18,
          30,
          31,
          18,
          16,
          19,
          10,
          15,
          10,
          40,
          23,
          15,
          5,
          10,
          10,
          10,
          15,
          18,
          30,
          20,
          30,
          20,
          20,
          20,
          25,
          25,
          40,
          75,
          10,
          38,
          20,
          20,
          20,
          20,
          30,
          10,
          10,
          10,
          10,
          10,
          10,
          10,
          87,
          16,
          16,
          16,
          20,
          6,
          15,
          10,
          10,
          5,
          10,
          10,
          10,
          10,
          10,
          10,
          10,
          10,
          10,
          20,
          8,
          6,
          10,
          6,
          10,
          10,
          10,
          5,
          5,
          5,
          6,
          6,
          5,
          5,
          5,
          5,
          5,
          5,
          5,
          10,
          4,
          11,
          11,
          10,
          10,
          10,
          10,
          10,
          10,
          10,
          10,
          10,
          10,
          10,
          10,
          10,
          10,
          52,
          null,
          null,
          null,
          6,
          6,
          8,
          8,
          80,
          40,
          5,
          10,
          10,
          10,
          10,
          8,
          15,
          5,
          5,
          5,
          5,
          5,
          5,
          5,
          5,
          5,
          5,
          5,
          5,
          5,
          15,
          5,
          5,
          5,
          5,
          5,
          5,
          20,
          10,
          4,
          4,
          5,
          5,
          4,
          4,
          4,
          4,
          10,
          10,
          105,
          10,
          4,
          10,
          5,
          10,
          10,
          10,
          5,
          10,
          16,
          13,
          42,
          38,
          80,
          18,
          18,
          54,
          12,
          15,
          20,
          20,
          12,
          8,
          10,
          25,
          10,
          11,
          5,
          5,
          4,
          10,
          3,
          5,
          9,
          5,
          10,
          10,
          5,
          9,
          6,
          7,
          2,
          6,
          9,
          6,
          6,
          15,
          8,
          7,
          8,
          6,
          4,
          17,
          16,
          16,
          6,
          5,
          4,
          5,
          5,
          5,
          5,
          5,
          5,
          5,
          5,
          5,
          5,
          5,
          5,
          5,
          5,
          5,
          22,
          16,
          5,
          5,
          5,
          8,
          4,
          4,
          13,
          4,
          4,
          2,
          3,
          3,
          25,
          3,
          3,
          3,
          1,
          2,
          15,
          15,
          10,
          20,
          10,
          10,
          1,
          3,
          2,
          8,
          4,
          30,
          30,
          2,
          1,
          3,
          11,
          3,
          12,
          5,
          3,
          18,
          9,
          3,
          3,
          3,
          3,
          3,
          3,
          15,
          15,
          10,
          10,
          10,
          15,
          10,
          10,
          10,
          20,
          10,
          15,
          15,
          5,
          10,
          10,
          72,
          40,
          5,
          10,
          24,
          6,
          6,
          2,
          6,
          6,
          6,
          6,
          9,
          6,
          5,
          9,
          40,
          6,
          6,
          10,
          12,
          15,
          18,
          5,
          5,
          5,
          8,
          10,
          6,
          30,
          240,
          24,
          24,
          24,
          24,
          10,
          10,
          20,
          15,
          5,
          10,
          16,
          10,
          5,
          5,
          5,
          14,
          10,
          28,
          8,
          3,
          7,
          8,
          2,
          5,
          7,
          20,
          20,
          12,
          45,
          7,
          7,
          16,
          16,
          16,
          30,
          4,
          18,
          5,
          8,
          65,
          5,
          10,
          5,
          4,
          20,
          5,
          5,
          5,
          8,
          2,
          6,
          15,
          10,
          5,
          4,
          8,
          5,
          5,
          5,
          5,
          20,
          12,
          10,
          20,
          20,
          6,
          5,
          15,
          5,
          64,
          5,
          14,
          15,
          25,
          25,
          15,
          25,
          15,
          15,
          12,
          13,
          5,
          5,
          240,
          12,
          8,
          6,
          7,
          6,
          7,
          7,
          20,
          20,
          20,
          20,
          12,
          13,
          13,
          6,
          12,
          13,
          5,
          10,
          5,
          5,
          5,
          20,
          10,
          10,
          10,
          15,
          10,
          7,
          6,
          15,
          10,
          60,
          20,
          3,
          59,
          23,
          16,
          10,
          23,
          3,
          3,
          3,
          3,
          3,
          3,
          3,
          6,
          20,
          10,
          10,
          20,
          10,
          5,
          30,
          10,
          10,
          10,
          20,
          20,
          8,
          20,
          8,
          10,
          10,
          15,
          9,
          5,
          4,
          5,
          5,
          5,
          5,
          5,
          5,
          5,
          5,
          5,
          5,
          10,
          10,
          5,
          10,
          10,
          5,
          10,
          10,
          15,
          5,
          10,
          5,
          10,
          10,
          10,
          10,
          10,
          4,
          10,
          4,
          5,
          17,
          5,
          20,
          8,
          10,
          6,
          6,
          8,
          20,
          10,
          12,
          17,
          8,
          52,
          12,
          8,
          12,
          12,
          10,
          12,
          10,
          15,
          12,
          38,
          24,
          12,
          10,
          10,
          10,
          9,
          64,
          12,
          64,
          2,
          2,
          2,
          3,
          5,
          21,
          10,
          15,
          10,
          10,
          20,
          8,
          9,
          9,
          9,
          9,
          9,
          9,
          8,
          7,
          8,
          85,
          18,
          10,
          9,
          20,
          15,
          14,
          14,
          13,
          5,
          55,
          56,
          5,
          5,
          5,
          5,
          5,
          5,
          5,
          5,
          90,
          12,
          8,
          8,
          10,
          10,
          10,
          10,
          32,
          58,
          16,
          12,
          6,
          12,
          12,
          12,
          12,
          12,
          6,
          6,
          6,
          6,
          20,
          27,
          40,
          6,
          10,
          15,
          6,
          6,
          6,
          6,
          38,
          5,
          21,
          10,
          5,
          10,
          47,
          10,
          10,
          10,
          10,
          10,
          5,
          5,
          15,
          1,
          15,
          10,
          10,
          1,
          1,
          1,
          32,
          10,
          10,
          44,
          48,
          10,
          15,
          5,
          10,
          11,
          5,
          15,
          25,
          5,
          9,
          6,
          17,
          10,
          5,
          8,
          10,
          10,
          7,
          8,
          12,
          35,
          18,
          10,
          5,
          43,
          10,
          10,
          10,
          20,
          6,
          21,
          13,
          7,
          20,
          20,
          20,
          14,
          25,
          90,
          10,
          15,
          4,
          4,
          7,
          7,
          15,
          4,
          20,
          12,
          20,
          10,
          15,
          12,
          12,
          18,
          15,
          13,
          20,
          18,
          30,
          10,
          8,
          20,
          4,
          9,
          4,
          9,
          16,
          4,
          5,
          8,
          8,
          5,
          10,
          10,
          8,
          7,
          10,
          12,
          5,
          8,
          10,
          10,
          5,
          8,
          10,
          9,
          9,
          10,
          7,
          6,
          5,
          20,
          104,
          78,
          15,
          5,
          15,
          10,
          10,
          5,
          20,
          26,
          39,
          15,
          10,
          40,
          15,
          10,
          5,
          5,
          10,
          5,
          5,
          4,
          7,
          49,
          18,
          5,
          12,
          6,
          5,
          27,
          15,
          7,
          10,
          10,
          5,
          15,
          10,
          4,
          24,
          20,
          4,
          24,
          9,
          5,
          10,
          5,
          5,
          10,
          5,
          5,
          10,
          10,
          5,
          5,
          5,
          5,
          5,
          5,
          5,
          5,
          10,
          10,
          5,
          10,
          5,
          10,
          15,
          17,
          18,
          15,
          3,
          3,
          4,
          3,
          19,
          8,
          4,
          3,
          9,
          10,
          8,
          40,
          52,
          53,
          40,
          23,
          23,
          35,
          41,
          37,
          30,
          24,
          33,
          27,
          26,
          12,
          41,
          38,
          4,
          4,
          12,
          27,
          35,
          45,
          49,
          58,
          12,
          52,
          37,
          35,
          9,
          28,
          36,
          39,
          40,
          4,
          60,
          52,
          16,
          27,
          33,
          43,
          47,
          10,
          46,
          50,
          42,
          33,
          9,
          19,
          47,
          43,
          40,
          33,
          29,
          5,
          5,
          30,
          47,
          52,
          5,
          20,
          20,
          10,
          5,
          5,
          8,
          25,
          4,
          12,
          12,
          12,
          5,
          8,
          16,
          16,
          16,
          3,
          5,
          7,
          10,
          16,
          12,
          15,
          30,
          72,
          30,
          10,
          18,
          18,
          10,
          24,
          19,
          8,
          8,
          8,
          8,
          8,
          60,
          10,
          30,
          10,
          10,
          10,
          10,
          10,
          10,
          25,
          30,
          10,
          30,
          30,
          25,
          25,
          30,
          30,
          10,
          10,
          10,
          10,
          10,
          10,
          5,
          21,
          14,
          2,
          4,
          5,
          5,
          5,
          5,
          3,
          2,
          5,
          4,
          5,
          5,
          5,
          2,
          5,
          5,
          5,
          5,
          5,
          5,
          5,
          5,
          5,
          5,
          5,
          5,
          6,
          6,
          5,
          5,
          6,
          6,
          5,
          10,
          6,
          20,
          10,
          15,
          16,
          10,
          8,
          10,
          10,
          5,
          16,
          18,
          18,
          10,
          10,
          15,
          15,
          15,
          10,
          10,
          1,
          1,
          1,
          1,
          1,
          1,
          1,
          1,
          1,
          1,
          5,
          10,
          15,
          10,
          9,
          10,
          10,
          10,
          9,
          10,
          10,
          10,
          10,
          9,
          9,
          7,
          12,
          7,
          5,
          12,
          16,
          16,
          16,
          16,
          16,
          16,
          16,
          20,
          16,
          20,
          20,
          20,
          20,
          20,
          5,
          6,
          40,
          30,
          20,
          20,
          8,
          12,
          12,
          30,
          35,
          20,
          10,
          24,
          10,
          25,
          20,
          24,
          20,
          45,
          18,
          11,
          10,
          6,
          56,
          56,
          40,
          10,
          10,
          12,
          8,
          8,
          7,
          20,
          10,
          10,
          20,
          20,
          5,
          5,
          5,
          5,
          5,
          5,
          5,
          5,
          5,
          5,
          5,
          8,
          12,
          12,
          12,
          15,
          12,
          12,
          13,
          20,
          8,
          8,
          18,
          4,
          12,
          12,
          12,
          8,
          9,
          15,
          16,
          12,
          30,
          80,
          28,
          30,
          15,
          10,
          10,
          28,
          4,
          5,
          10,
          5,
          10,
          10,
          15,
          5,
          5,
          5,
          5,
          10,
          5,
          4,
          12,
          25,
          7,
          7,
          7,
          7,
          7,
          7,
          7,
          7,
          20,
          20,
          10,
          5,
          6,
          20,
          18,
          10,
          1,
          4,
          4,
          10,
          10,
          10,
          10,
          10,
          10,
          10,
          1,
          1,
          1,
          1,
          1,
          1,
          75,
          10,
          1,
          11,
          14,
          1,
          1,
          1,
          1,
          14,
          4,
          8,
          16,
          5,
          10,
          5,
          5,
          10,
          24,
          15,
          10,
          15,
          5,
          24,
          24,
          12,
          24,
          24,
          20,
          20,
          20,
          10,
          5,
          4,
          3,
          5,
          5,
          3,
          5,
          3,
          5,
          3,
          5,
          3,
          5,
          3,
          5,
          3,
          3,
          5,
          5,
          5,
          3,
          5,
          3,
          5,
          5,
          5,
          5,
          6,
          8,
          20,
          18,
          10,
          20,
          30,
          32,
          10,
          15,
          5,
          40,
          10,
          16,
          10,
          34,
          10,
          12,
          16,
          10,
          5,
          19,
          14,
          12,
          10,
          17,
          14,
          5,
          5,
          5,
          10,
          10,
          10,
          12,
          5,
          20,
          12,
          14,
          12,
          36,
          18,
          18,
          36,
          36,
          36,
          36,
          36,
          36,
          18,
          16,
          18,
          18,
          15,
          15,
          15,
          11,
          15,
          10,
          10,
          5,
          5,
          5,
          5,
          5,
          5,
          5,
          5,
          5,
          5,
          5,
          5,
          11,
          8,
          14,
          30,
          10,
          15,
          24,
          22,
          12,
          15,
          4,
          5,
          5,
          8,
          17,
          15,
          30,
          30,
          10,
          16,
          10,
          5,
          5,
          4,
          5,
          4,
          4,
          4,
          4,
          4,
          4,
          8,
          4,
          4,
          4,
          4,
          14,
          4,
          15,
          2,
          2,
          4,
          9,
          9,
          5,
          5,
          4,
          15,
          9,
          9,
          15,
          5,
          15,
          15,
          15,
          15,
          15,
          8,
          5,
          5,
          5,
          5,
          5,
          5,
          5,
          5,
          10,
          10,
          15,
          10,
          6,
          16,
          9,
          5,
          7,
          7,
          16,
          10,
          10,
          5,
          5,
          5,
          16,
          60,
          10,
          16,
          10,
          12,
          12,
          12,
          12,
          4,
          58,
          4,
          10,
          11,
          4,
          4,
          2,
          4,
          2,
          4,
          32,
          35,
          6,
          6,
          6,
          6,
          6,
          6,
          6,
          28,
          null,
          16,
          12,
          20,
          30,
          20,
          28,
          28,
          30,
          28,
          24,
          24,
          10,
          10,
          5,
          10,
          8,
          10,
          10,
          6,
          12,
          7,
          5,
          10,
          3,
          16,
          12,
          5,
          5,
          3,
          5,
          5,
          5,
          18,
          5,
          5,
          5,
          5,
          5,
          3,
          5,
          5,
          5,
          5,
          5,
          5,
          5,
          5,
          5,
          5,
          5,
          40,
          5,
          17,
          20,
          10,
          10,
          12,
          10,
          20,
          6,
          6,
          5,
          15,
          5,
          12,
          36,
          20,
          10,
          14,
          20,
          8,
          5,
          5,
          40,
          10,
          12,
          8,
          5,
          5,
          5,
          5,
          5,
          15,
          15,
          10,
          5,
          5,
          5,
          5,
          5,
          5,
          10,
          10,
          5,
          10,
          18,
          9,
          15,
          12,
          4,
          4,
          4,
          15,
          5,
          10,
          15,
          10,
          13,
          12,
          4,
          15,
          10,
          10,
          5,
          5,
          5,
          5,
          5,
          5,
          5,
          5,
          5,
          5,
          5,
          5,
          5,
          5,
          5,
          5,
          5,
          5,
          5,
          5,
          5,
          5,
          5,
          5,
          5,
          5,
          5,
          5,
          5,
          5,
          5,
          5,
          5,
          5,
          5,
          5,
          5,
          5,
          5,
          5,
          5,
          5,
          5,
          5,
          5,
          5,
          5,
          5,
          5,
          5,
          5,
          10,
          6,
          20,
          20,
          7,
          20,
          14,
          3,
          3,
          8,
          8,
          8,
          5,
          5,
          5,
          5,
          5,
          5,
          5,
          5,
          5,
          5,
          5,
          5,
          40,
          25,
          10,
          20,
          10,
          10,
          10,
          10,
          26,
          23,
          20,
          5,
          5,
          20,
          5,
          3,
          10,
          10,
          10,
          10,
          5,
          6,
          6,
          6,
          5,
          5,
          5,
          20,
          8,
          15,
          5,
          5,
          5,
          10,
          6,
          4,
          21,
          9,
          9,
          16,
          10,
          15,
          5,
          20,
          5,
          10,
          20,
          10,
          10,
          20,
          20,
          30,
          20,
          7,
          7,
          7,
          5,
          6,
          5,
          5,
          20,
          6,
          26,
          4,
          26,
          5,
          9,
          9,
          9,
          9,
          9,
          10,
          10,
          10,
          21,
          20,
          10,
          8,
          10,
          5,
          8,
          15,
          8,
          5,
          14,
          14,
          5,
          6,
          6,
          6,
          6,
          6,
          9,
          9,
          14,
          5,
          5,
          5,
          5,
          5,
          5,
          5,
          5,
          6,
          6,
          4,
          14,
          4,
          4,
          14,
          14,
          4,
          14,
          4,
          4,
          4,
          14,
          10,
          12,
          12,
          12,
          12,
          12,
          12,
          12,
          12,
          12,
          12,
          8,
          5,
          12,
          12,
          12,
          12,
          12,
          6,
          5,
          10,
          10,
          10,
          18,
          5,
          8,
          8,
          8,
          8,
          8,
          8,
          8,
          8,
          8,
          8,
          8,
          5,
          14,
          5,
          14,
          5,
          14,
          4,
          4,
          4,
          4,
          14,
          6,
          10,
          5,
          5,
          5,
          5,
          5,
          15,
          10,
          15,
          7,
          28,
          10,
          21,
          15,
          10,
          15,
          1,
          18,
          4,
          5,
          14,
          50,
          20,
          10,
          15,
          5,
          30,
          5,
          5,
          5,
          5,
          5,
          5,
          5,
          5,
          5,
          5,
          5,
          5,
          5,
          5,
          5,
          5,
          5,
          5,
          5,
          18,
          5,
          5,
          5,
          7,
          10,
          10,
          2,
          14,
          13,
          12,
          3,
          3,
          3,
          3,
          3,
          3,
          3,
          3,
          3,
          3,
          3,
          5,
          5,
          5,
          5,
          3,
          3,
          3,
          3,
          5,
          10,
          96,
          68,
          8,
          10,
          8,
          8,
          16,
          5,
          5,
          10,
          20,
          20,
          8,
          10,
          12,
          10,
          45,
          6,
          10,
          5,
          10,
          7,
          28,
          30,
          10,
          5,
          4,
          5,
          5,
          5,
          5,
          20,
          16,
          20,
          20,
          40,
          20,
          20,
          4,
          7,
          5,
          5,
          13,
          5,
          8,
          5,
          5,
          5,
          10,
          5,
          5,
          5,
          5,
          7,
          8,
          8,
          8,
          8,
          15,
          5,
          5,
          5,
          5,
          5,
          10,
          5,
          5,
          5,
          5,
          15,
          5,
          5,
          5,
          4,
          4,
          4,
          4,
          4,
          5,
          5,
          5,
          5,
          20,
          15,
          5,
          5,
          5,
          36,
          5,
          5,
          5,
          5,
          16,
          5,
          5,
          5,
          5,
          5,
          5,
          4,
          4,
          4,
          5,
          5,
          16,
          16,
          16,
          16,
          16,
          16,
          5,
          2,
          4,
          4,
          4,
          4,
          5,
          5,
          7,
          7,
          5,
          60,
          5,
          20,
          9,
          12,
          10,
          25,
          10,
          10,
          20,
          14,
          5,
          10,
          6,
          10,
          10,
          12,
          5,
          5,
          5,
          5,
          7,
          13,
          15,
          15,
          13,
          5,
          13,
          13,
          11,
          13,
          6,
          5,
          8,
          8,
          8,
          8,
          8,
          8,
          8,
          5,
          8,
          4,
          5,
          17,
          19,
          5,
          5,
          8,
          6,
          4,
          6,
          8,
          13,
          15,
          6,
          5,
          5,
          15,
          24,
          20,
          5,
          13,
          4,
          4,
          43,
          15,
          10,
          9,
          5,
          10,
          17,
          20,
          12,
          40,
          19,
          13,
          20,
          40,
          20,
          10,
          10,
          25,
          15,
          26,
          20,
          20,
          20,
          20,
          20,
          10,
          17,
          20,
          5,
          10,
          20,
          20,
          20,
          140,
          20,
          20,
          20,
          20,
          20,
          20,
          20,
          20,
          10,
          10,
          10,
          10,
          10,
          10,
          10,
          15,
          15,
          8,
          10,
          12,
          25,
          3,
          3,
          3,
          5,
          7,
          80,
          11,
          30,
          2,
          3,
          3,
          3,
          2,
          3,
          6,
          10,
          14,
          4,
          6,
          6,
          6,
          6,
          18,
          5,
          2,
          3,
          18,
          30,
          18,
          20,
          17,
          15,
          25,
          10,
          5,
          5,
          10,
          10,
          10,
          30,
          10,
          30,
          10,
          4,
          6,
          37,
          2,
          1,
          1,
          2,
          2,
          2,
          2,
          1,
          1,
          2,
          2,
          14,
          14,
          14,
          14,
          14,
          2,
          2,
          5,
          5,
          5,
          5,
          5,
          5,
          10,
          10,
          5,
          10,
          10,
          5,
          5,
          5,
          5,
          5,
          5,
          5,
          10,
          10,
          10,
          10,
          10,
          10,
          10,
          10,
          10,
          20,
          15,
          11,
          6,
          10,
          2,
          5,
          7,
          10,
          18,
          18,
          8,
          10,
          5,
          10,
          53,
          5,
          10,
          10,
          10,
          10,
          10,
          24,
          40,
          10,
          1,
          1,
          1,
          1,
          1,
          1,
          1,
          1,
          1,
          1,
          1,
          1,
          1,
          1,
          1,
          1,
          1,
          1,
          1,
          1,
          1,
          1,
          1,
          1,
          1,
          1,
          1,
          1,
          1,
          1,
          1,
          1,
          1,
          1,
          1,
          1,
          1,
          1,
          1,
          1,
          1,
          1,
          1,
          1,
          1,
          1,
          1,
          1,
          1,
          1,
          1,
          1,
          1,
          1,
          1,
          1,
          1,
          1,
          1,
          1,
          1,
          1,
          1,
          1,
          1,
          1,
          1,
          1,
          1,
          1,
          1,
          1,
          1,
          1,
          1,
          1,
          1,
          1,
          1,
          1,
          1,
          1,
          1,
          1,
          1,
          1,
          1,
          1,
          1,
          1,
          1,
          1,
          1,
          1,
          1,
          1,
          1,
          1,
          1,
          1,
          44,
          5,
          12,
          12,
          6,
          6,
          20,
          4,
          20,
          10,
          20,
          5,
          10,
          10,
          20,
          20,
          20,
          20,
          10,
          10,
          20,
          4,
          12,
          70,
          56,
          50,
          40,
          8,
          5,
          10,
          10,
          8,
          8,
          15,
          4,
          10,
          4,
          10,
          8,
          10,
          10,
          6,
          16,
          4,
          10,
          5,
          5,
          5,
          5,
          10,
          10,
          10,
          20,
          15,
          46,
          65,
          5,
          10,
          10,
          40,
          22,
          6,
          5,
          5,
          10,
          15,
          15,
          6,
          12,
          12,
          12,
          8,
          8,
          6,
          44,
          24,
          30,
          8,
          8,
          8,
          52,
          52,
          18,
          15,
          15,
          12,
          38,
          32,
          10,
          17,
          22,
          22,
          10,
          22,
          19,
          26,
          12,
          6,
          36,
          34,
          16,
          12,
          22,
          32,
          12,
          28,
          32,
          4,
          10,
          8,
          42,
          44,
          36,
          28,
          13,
          8,
          8,
          60,
          48,
          12,
          5,
          5,
          5,
          10,
          8,
          28,
          6,
          5,
          6,
          8,
          37,
          16,
          36,
          30,
          48,
          34,
          35,
          16,
          14,
          16,
          12,
          10,
          16,
          5,
          16,
          25,
          45,
          6,
          6,
          6,
          6,
          64,
          5,
          5,
          15,
          25,
          24,
          14,
          10,
          14,
          16,
          10,
          4,
          10,
          10,
          10,
          4,
          10,
          10,
          10,
          10,
          20,
          10,
          10,
          5,
          10,
          11,
          16,
          8,
          8,
          8,
          10,
          18,
          10,
          8,
          8,
          8,
          8,
          8,
          8,
          16,
          11,
          8,
          10,
          11,
          8,
          51,
          20,
          6,
          6,
          6,
          5,
          20,
          15,
          22,
          17,
          5,
          29,
          5,
          5,
          5,
          5,
          5,
          5,
          5,
          5,
          15,
          15,
          5,
          5,
          5,
          5,
          5,
          5,
          5,
          3,
          6,
          10,
          10,
          5,
          5,
          45,
          5,
          107,
          5,
          5,
          5,
          5,
          5,
          5,
          8,
          35,
          35,
          3,
          1,
          1,
          1,
          5,
          3,
          3,
          3,
          2,
          5,
          20,
          5,
          2,
          1,
          2,
          2,
          1,
          5,
          10,
          10,
          10,
          5,
          10,
          5,
          19,
          20,
          16,
          10,
          6,
          8,
          49,
          10,
          12,
          12,
          12,
          27,
          28,
          12,
          10,
          14,
          5,
          5,
          10,
          12,
          5,
          5,
          5,
          5,
          5,
          5,
          10,
          2,
          10,
          10,
          6,
          6,
          5,
          4,
          5,
          3,
          4,
          9,
          8,
          5,
          4,
          10,
          5,
          8,
          5,
          5,
          5,
          5,
          6,
          6,
          10,
          10,
          34,
          20,
          5,
          10,
          5,
          20,
          20,
          5,
          5,
          5,
          5,
          14,
          5,
          10,
          5,
          10,
          10,
          10,
          10,
          5,
          10,
          10,
          10,
          5,
          10,
          10,
          10,
          10,
          4,
          4,
          4,
          5,
          5,
          5,
          10,
          5,
          10,
          5,
          10,
          5,
          5,
          5,
          5,
          5,
          5,
          5,
          5,
          5,
          5,
          2,
          12,
          10,
          20,
          10,
          10,
          10,
          7,
          7,
          7,
          14,
          21,
          7,
          10,
          7,
          5,
          8,
          18,
          25,
          15,
          5,
          15,
          25,
          20,
          5,
          5,
          50,
          5,
          5,
          5,
          5,
          12,
          5,
          5,
          5,
          15,
          5,
          23,
          10,
          10,
          5,
          10,
          10,
          8,
          8,
          8,
          8,
          8,
          8,
          8,
          8,
          8,
          8,
          10,
          30,
          5,
          25,
          6,
          6,
          9,
          6,
          6,
          5,
          5,
          5,
          5,
          5,
          5,
          5,
          5,
          5,
          5,
          5,
          8,
          8,
          10,
          5,
          12,
          10,
          8,
          8,
          15,
          3,
          15,
          8,
          3,
          3,
          10,
          3,
          4,
          8,
          16,
          5,
          10,
          10,
          13,
          10,
          10,
          10,
          10,
          10,
          10,
          5,
          5,
          8,
          10,
          15,
          25,
          14,
          10,
          25,
          10,
          10,
          5,
          115,
          18,
          10,
          20,
          25,
          1,
          1,
          6,
          6,
          6,
          6,
          1,
          1,
          1,
          15,
          21,
          10,
          20,
          20,
          20,
          20,
          20,
          20,
          20,
          20,
          8,
          6,
          6,
          5,
          2,
          2,
          4,
          4,
          4,
          6,
          6,
          6,
          6,
          6,
          6,
          6,
          6,
          6,
          10,
          6,
          6,
          6,
          5,
          5,
          3,
          7,
          20,
          4,
          4,
          4,
          4,
          4,
          2,
          4,
          4,
          20,
          2,
          4,
          2,
          6,
          4,
          10,
          1,
          1,
          4,
          4,
          4,
          4,
          4,
          4,
          4,
          4,
          5,
          5,
          10,
          2,
          2,
          2,
          2,
          4,
          4,
          20,
          4,
          4,
          4,
          10,
          28,
          4,
          4,
          4,
          4,
          4,
          4,
          4,
          4,
          2,
          20,
          35,
          10,
          15,
          12,
          22,
          15,
          15,
          7,
          7,
          15,
          12,
          4,
          20,
          20,
          30,
          15,
          36,
          8,
          30,
          4,
          4,
          4,
          4,
          4,
          4,
          4,
          4,
          30,
          30,
          15,
          5,
          17,
          14,
          25,
          10,
          8,
          30,
          25,
          25,
          11,
          4,
          20,
          10,
          27,
          25,
          30,
          19,
          10,
          10,
          30,
          10,
          10,
          1,
          15,
          20,
          34,
          17,
          10,
          34,
          30,
          24,
          5,
          7,
          10,
          6,
          12,
          7,
          7,
          14,
          14,
          10,
          6,
          15,
          25,
          30,
          15,
          30,
          10,
          10,
          16,
          15,
          4,
          10,
          4,
          4,
          32,
          6,
          10,
          4,
          5,
          10,
          4,
          4,
          4,
          6,
          6,
          12,
          6,
          6,
          6,
          12,
          5,
          5,
          10,
          10,
          4,
          6,
          6,
          20,
          4,
          4,
          8,
          1,
          5,
          1,
          1,
          1,
          1,
          1,
          1,
          8,
          10,
          10,
          5,
          5,
          5,
          5,
          50,
          5,
          5,
          5,
          5,
          5,
          5,
          10,
          10,
          10,
          10,
          10,
          10,
          10,
          5,
          36,
          12,
          10,
          24,
          12,
          24,
          24,
          24,
          28,
          46,
          10,
          24,
          15,
          5,
          5,
          7,
          4,
          4,
          10,
          3,
          3,
          10,
          7,
          18,
          23,
          12,
          23,
          8,
          10,
          10,
          12,
          10,
          10,
          10,
          9,
          15,
          15,
          16,
          30,
          10,
          5,
          36,
          13,
          10,
          18,
          10,
          35,
          4,
          10,
          20,
          14,
          40,
          9,
          2,
          8,
          15,
          10,
          5,
          7,
          1,
          5,
          10,
          11,
          8,
          5,
          10,
          8,
          5,
          8,
          10,
          6,
          5,
          6,
          5,
          9,
          5,
          5,
          10,
          10,
          10,
          6,
          5,
          10,
          10,
          15,
          15,
          4,
          4,
          4,
          6,
          6,
          16,
          8,
          20,
          24,
          6,
          6,
          8,
          14,
          14,
          7,
          7,
          1,
          1,
          1,
          5,
          5,
          5,
          5,
          4,
          8,
          15,
          5,
          10,
          7,
          5,
          5,
          5,
          5,
          9,
          15,
          15,
          5,
          5,
          5,
          4,
          4,
          25,
          5,
          24,
          8,
          24,
          10,
          24,
          4,
          20,
          20,
          10,
          7,
          6,
          35,
          10,
          10,
          20,
          21,
          5,
          4,
          5,
          8,
          8,
          5,
          25,
          5,
          2,
          2,
          2,
          2,
          10,
          5,
          2,
          2,
          2,
          6,
          2,
          2,
          4,
          10,
          3,
          6,
          8,
          10,
          6,
          4,
          4,
          4,
          6,
          6,
          5,
          2,
          2,
          2,
          12,
          6,
          9,
          7,
          10,
          10,
          11,
          4,
          5,
          10,
          16,
          10,
          10,
          10,
          10,
          10,
          10,
          10,
          10,
          10,
          10,
          10,
          10,
          15,
          15,
          10,
          10,
          10,
          60,
          10,
          10,
          10,
          10,
          10,
          40,
          40,
          10,
          40,
          10,
          10,
          10,
          16,
          16,
          15,
          10,
          40,
          10,
          15,
          15,
          15,
          15,
          15,
          15,
          16,
          16,
          16,
          16,
          16,
          16,
          4,
          8,
          8,
          8,
          8,
          8,
          8,
          4,
          8,
          8,
          8,
          4,
          8,
          8,
          8,
          8,
          4,
          8,
          8,
          8,
          8,
          8,
          8,
          10,
          16,
          16,
          15,
          20,
          10,
          10,
          10,
          30,
          20,
          40,
          10,
          10,
          15,
          15,
          10,
          10,
          10,
          10,
          40,
          20,
          30,
          16,
          16,
          12,
          30,
          50,
          5,
          5,
          5,
          10,
          5,
          10,
          10,
          2,
          5,
          5,
          8,
          6,
          34,
          130,
          23,
          23,
          23,
          23,
          23,
          6,
          6,
          6,
          6,
          6,
          6,
          6,
          6,
          5,
          5,
          5,
          5,
          5,
          5,
          10,
          5,
          12,
          12,
          85,
          6,
          6,
          5,
          5,
          5,
          5,
          5,
          5,
          10,
          5,
          37,
          7,
          6,
          6,
          5,
          5,
          5,
          15,
          10,
          5,
          5,
          5,
          5,
          5,
          5,
          5,
          10,
          6,
          6,
          6,
          6,
          5,
          6,
          6,
          6,
          6,
          6,
          12,
          12,
          12,
          6,
          6,
          10,
          8,
          12,
          12,
          12,
          12,
          6,
          102,
          6,
          6,
          6,
          102,
          6,
          6,
          6,
          8,
          30,
          55,
          5,
          5,
          5,
          5,
          4,
          5,
          5,
          20,
          17,
          12,
          12,
          6,
          2,
          12,
          10,
          4,
          4,
          4,
          2,
          4,
          11,
          12,
          10,
          12,
          10,
          10,
          4,
          4,
          5,
          4,
          4,
          4,
          4,
          4,
          4,
          4,
          8,
          8,
          10,
          4,
          12,
          5,
          5,
          5,
          10,
          15,
          4,
          4,
          4,
          6,
          8,
          21,
          1,
          4,
          7,
          5,
          2,
          2,
          7,
          24,
          2,
          20,
          2,
          2,
          2,
          2,
          2,
          2,
          2,
          2,
          2,
          2,
          2,
          2,
          2,
          2,
          2,
          2,
          2,
          15,
          15,
          15,
          2,
          2,
          2,
          2,
          10,
          15,
          10,
          12,
          5,
          60,
          25,
          66,
          12,
          10,
          5,
          30,
          15,
          15,
          10,
          16,
          16,
          16,
          10,
          8,
          14,
          10,
          18,
          12,
          13,
          10,
          20,
          15,
          6,
          4,
          4,
          4,
          4,
          4,
          4,
          4,
          4,
          4,
          4,
          4,
          4,
          4,
          4,
          6,
          7,
          18,
          6,
          6,
          4,
          6,
          4,
          21,
          10,
          15,
          65,
          9,
          47,
          91,
          22,
          16,
          4,
          15,
          35,
          48,
          66,
          48,
          66,
          12,
          10,
          12,
          10,
          10,
          3,
          10,
          15,
          12,
          10,
          20,
          10,
          10,
          12,
          15,
          55,
          10,
          43,
          38,
          50,
          2,
          8,
          20,
          12,
          37,
          59,
          15,
          16,
          6,
          25,
          10,
          20,
          25,
          20,
          38,
          26,
          5,
          41,
          64,
          64,
          49,
          16,
          5,
          5,
          5,
          5,
          5,
          5,
          30,
          30,
          30,
          30,
          55,
          20,
          35,
          5,
          16,
          16,
          5,
          10,
          10,
          10,
          10,
          10,
          10,
          10,
          4,
          4,
          20,
          8,
          8,
          16,
          10,
          15,
          48,
          18,
          8,
          6,
          2,
          2,
          6,
          10,
          15,
          15,
          15,
          20,
          10,
          10,
          2,
          2,
          2,
          4,
          4,
          4,
          4,
          4,
          4,
          4,
          4,
          4,
          4,
          4,
          4,
          5,
          5,
          5,
          5,
          5,
          5,
          18,
          25,
          13,
          13,
          6,
          6,
          6,
          6,
          12,
          12,
          3,
          6,
          6,
          6,
          2,
          10,
          9,
          12,
          10,
          36,
          38,
          14,
          36,
          16,
          34,
          22,
          12,
          34,
          7,
          8,
          30,
          8,
          8,
          30,
          10,
          8,
          24,
          null,
          5,
          null,
          null,
          10,
          10
         ],
         "xaxis": "x",
         "yaxis": "y"
        }
       ],
       "layout": {
        "barmode": "relative",
        "legend": {
         "tracegroupgap": 0
        },
        "template": {
         "data": {
          "bar": [
           {
            "error_x": {
             "color": "#2a3f5f"
            },
            "error_y": {
             "color": "#2a3f5f"
            },
            "marker": {
             "line": {
              "color": "#E5ECF6",
              "width": 0.5
             },
             "pattern": {
              "fillmode": "overlay",
              "size": 10,
              "solidity": 0.2
             }
            },
            "type": "bar"
           }
          ],
          "barpolar": [
           {
            "marker": {
             "line": {
              "color": "#E5ECF6",
              "width": 0.5
             },
             "pattern": {
              "fillmode": "overlay",
              "size": 10,
              "solidity": 0.2
             }
            },
            "type": "barpolar"
           }
          ],
          "carpet": [
           {
            "aaxis": {
             "endlinecolor": "#2a3f5f",
             "gridcolor": "white",
             "linecolor": "white",
             "minorgridcolor": "white",
             "startlinecolor": "#2a3f5f"
            },
            "baxis": {
             "endlinecolor": "#2a3f5f",
             "gridcolor": "white",
             "linecolor": "white",
             "minorgridcolor": "white",
             "startlinecolor": "#2a3f5f"
            },
            "type": "carpet"
           }
          ],
          "choropleth": [
           {
            "colorbar": {
             "outlinewidth": 0,
             "ticks": ""
            },
            "type": "choropleth"
           }
          ],
          "contour": [
           {
            "colorbar": {
             "outlinewidth": 0,
             "ticks": ""
            },
            "colorscale": [
             [
              0,
              "#0d0887"
             ],
             [
              0.1111111111111111,
              "#46039f"
             ],
             [
              0.2222222222222222,
              "#7201a8"
             ],
             [
              0.3333333333333333,
              "#9c179e"
             ],
             [
              0.4444444444444444,
              "#bd3786"
             ],
             [
              0.5555555555555556,
              "#d8576b"
             ],
             [
              0.6666666666666666,
              "#ed7953"
             ],
             [
              0.7777777777777778,
              "#fb9f3a"
             ],
             [
              0.8888888888888888,
              "#fdca26"
             ],
             [
              1,
              "#f0f921"
             ]
            ],
            "type": "contour"
           }
          ],
          "contourcarpet": [
           {
            "colorbar": {
             "outlinewidth": 0,
             "ticks": ""
            },
            "type": "contourcarpet"
           }
          ],
          "heatmap": [
           {
            "colorbar": {
             "outlinewidth": 0,
             "ticks": ""
            },
            "colorscale": [
             [
              0,
              "#0d0887"
             ],
             [
              0.1111111111111111,
              "#46039f"
             ],
             [
              0.2222222222222222,
              "#7201a8"
             ],
             [
              0.3333333333333333,
              "#9c179e"
             ],
             [
              0.4444444444444444,
              "#bd3786"
             ],
             [
              0.5555555555555556,
              "#d8576b"
             ],
             [
              0.6666666666666666,
              "#ed7953"
             ],
             [
              0.7777777777777778,
              "#fb9f3a"
             ],
             [
              0.8888888888888888,
              "#fdca26"
             ],
             [
              1,
              "#f0f921"
             ]
            ],
            "type": "heatmap"
           }
          ],
          "heatmapgl": [
           {
            "colorbar": {
             "outlinewidth": 0,
             "ticks": ""
            },
            "colorscale": [
             [
              0,
              "#0d0887"
             ],
             [
              0.1111111111111111,
              "#46039f"
             ],
             [
              0.2222222222222222,
              "#7201a8"
             ],
             [
              0.3333333333333333,
              "#9c179e"
             ],
             [
              0.4444444444444444,
              "#bd3786"
             ],
             [
              0.5555555555555556,
              "#d8576b"
             ],
             [
              0.6666666666666666,
              "#ed7953"
             ],
             [
              0.7777777777777778,
              "#fb9f3a"
             ],
             [
              0.8888888888888888,
              "#fdca26"
             ],
             [
              1,
              "#f0f921"
             ]
            ],
            "type": "heatmapgl"
           }
          ],
          "histogram": [
           {
            "marker": {
             "pattern": {
              "fillmode": "overlay",
              "size": 10,
              "solidity": 0.2
             }
            },
            "type": "histogram"
           }
          ],
          "histogram2d": [
           {
            "colorbar": {
             "outlinewidth": 0,
             "ticks": ""
            },
            "colorscale": [
             [
              0,
              "#0d0887"
             ],
             [
              0.1111111111111111,
              "#46039f"
             ],
             [
              0.2222222222222222,
              "#7201a8"
             ],
             [
              0.3333333333333333,
              "#9c179e"
             ],
             [
              0.4444444444444444,
              "#bd3786"
             ],
             [
              0.5555555555555556,
              "#d8576b"
             ],
             [
              0.6666666666666666,
              "#ed7953"
             ],
             [
              0.7777777777777778,
              "#fb9f3a"
             ],
             [
              0.8888888888888888,
              "#fdca26"
             ],
             [
              1,
              "#f0f921"
             ]
            ],
            "type": "histogram2d"
           }
          ],
          "histogram2dcontour": [
           {
            "colorbar": {
             "outlinewidth": 0,
             "ticks": ""
            },
            "colorscale": [
             [
              0,
              "#0d0887"
             ],
             [
              0.1111111111111111,
              "#46039f"
             ],
             [
              0.2222222222222222,
              "#7201a8"
             ],
             [
              0.3333333333333333,
              "#9c179e"
             ],
             [
              0.4444444444444444,
              "#bd3786"
             ],
             [
              0.5555555555555556,
              "#d8576b"
             ],
             [
              0.6666666666666666,
              "#ed7953"
             ],
             [
              0.7777777777777778,
              "#fb9f3a"
             ],
             [
              0.8888888888888888,
              "#fdca26"
             ],
             [
              1,
              "#f0f921"
             ]
            ],
            "type": "histogram2dcontour"
           }
          ],
          "mesh3d": [
           {
            "colorbar": {
             "outlinewidth": 0,
             "ticks": ""
            },
            "type": "mesh3d"
           }
          ],
          "parcoords": [
           {
            "line": {
             "colorbar": {
              "outlinewidth": 0,
              "ticks": ""
             }
            },
            "type": "parcoords"
           }
          ],
          "pie": [
           {
            "automargin": true,
            "type": "pie"
           }
          ],
          "scatter": [
           {
            "fillpattern": {
             "fillmode": "overlay",
             "size": 10,
             "solidity": 0.2
            },
            "type": "scatter"
           }
          ],
          "scatter3d": [
           {
            "line": {
             "colorbar": {
              "outlinewidth": 0,
              "ticks": ""
             }
            },
            "marker": {
             "colorbar": {
              "outlinewidth": 0,
              "ticks": ""
             }
            },
            "type": "scatter3d"
           }
          ],
          "scattercarpet": [
           {
            "marker": {
             "colorbar": {
              "outlinewidth": 0,
              "ticks": ""
             }
            },
            "type": "scattercarpet"
           }
          ],
          "scattergeo": [
           {
            "marker": {
             "colorbar": {
              "outlinewidth": 0,
              "ticks": ""
             }
            },
            "type": "scattergeo"
           }
          ],
          "scattergl": [
           {
            "marker": {
             "colorbar": {
              "outlinewidth": 0,
              "ticks": ""
             }
            },
            "type": "scattergl"
           }
          ],
          "scattermapbox": [
           {
            "marker": {
             "colorbar": {
              "outlinewidth": 0,
              "ticks": ""
             }
            },
            "type": "scattermapbox"
           }
          ],
          "scatterpolar": [
           {
            "marker": {
             "colorbar": {
              "outlinewidth": 0,
              "ticks": ""
             }
            },
            "type": "scatterpolar"
           }
          ],
          "scatterpolargl": [
           {
            "marker": {
             "colorbar": {
              "outlinewidth": 0,
              "ticks": ""
             }
            },
            "type": "scatterpolargl"
           }
          ],
          "scatterternary": [
           {
            "marker": {
             "colorbar": {
              "outlinewidth": 0,
              "ticks": ""
             }
            },
            "type": "scatterternary"
           }
          ],
          "surface": [
           {
            "colorbar": {
             "outlinewidth": 0,
             "ticks": ""
            },
            "colorscale": [
             [
              0,
              "#0d0887"
             ],
             [
              0.1111111111111111,
              "#46039f"
             ],
             [
              0.2222222222222222,
              "#7201a8"
             ],
             [
              0.3333333333333333,
              "#9c179e"
             ],
             [
              0.4444444444444444,
              "#bd3786"
             ],
             [
              0.5555555555555556,
              "#d8576b"
             ],
             [
              0.6666666666666666,
              "#ed7953"
             ],
             [
              0.7777777777777778,
              "#fb9f3a"
             ],
             [
              0.8888888888888888,
              "#fdca26"
             ],
             [
              1,
              "#f0f921"
             ]
            ],
            "type": "surface"
           }
          ],
          "table": [
           {
            "cells": {
             "fill": {
              "color": "#EBF0F8"
             },
             "line": {
              "color": "white"
             }
            },
            "header": {
             "fill": {
              "color": "#C8D4E3"
             },
             "line": {
              "color": "white"
             }
            },
            "type": "table"
           }
          ]
         },
         "layout": {
          "annotationdefaults": {
           "arrowcolor": "#2a3f5f",
           "arrowhead": 0,
           "arrowwidth": 1
          },
          "autotypenumbers": "strict",
          "coloraxis": {
           "colorbar": {
            "outlinewidth": 0,
            "ticks": ""
           }
          },
          "colorscale": {
           "diverging": [
            [
             0,
             "#8e0152"
            ],
            [
             0.1,
             "#c51b7d"
            ],
            [
             0.2,
             "#de77ae"
            ],
            [
             0.3,
             "#f1b6da"
            ],
            [
             0.4,
             "#fde0ef"
            ],
            [
             0.5,
             "#f7f7f7"
            ],
            [
             0.6,
             "#e6f5d0"
            ],
            [
             0.7,
             "#b8e186"
            ],
            [
             0.8,
             "#7fbc41"
            ],
            [
             0.9,
             "#4d9221"
            ],
            [
             1,
             "#276419"
            ]
           ],
           "sequential": [
            [
             0,
             "#0d0887"
            ],
            [
             0.1111111111111111,
             "#46039f"
            ],
            [
             0.2222222222222222,
             "#7201a8"
            ],
            [
             0.3333333333333333,
             "#9c179e"
            ],
            [
             0.4444444444444444,
             "#bd3786"
            ],
            [
             0.5555555555555556,
             "#d8576b"
            ],
            [
             0.6666666666666666,
             "#ed7953"
            ],
            [
             0.7777777777777778,
             "#fb9f3a"
            ],
            [
             0.8888888888888888,
             "#fdca26"
            ],
            [
             1,
             "#f0f921"
            ]
           ],
           "sequentialminus": [
            [
             0,
             "#0d0887"
            ],
            [
             0.1111111111111111,
             "#46039f"
            ],
            [
             0.2222222222222222,
             "#7201a8"
            ],
            [
             0.3333333333333333,
             "#9c179e"
            ],
            [
             0.4444444444444444,
             "#bd3786"
            ],
            [
             0.5555555555555556,
             "#d8576b"
            ],
            [
             0.6666666666666666,
             "#ed7953"
            ],
            [
             0.7777777777777778,
             "#fb9f3a"
            ],
            [
             0.8888888888888888,
             "#fdca26"
            ],
            [
             1,
             "#f0f921"
            ]
           ]
          },
          "colorway": [
           "#636efa",
           "#EF553B",
           "#00cc96",
           "#ab63fa",
           "#FFA15A",
           "#19d3f3",
           "#FF6692",
           "#B6E880",
           "#FF97FF",
           "#FECB52"
          ],
          "font": {
           "color": "#2a3f5f"
          },
          "geo": {
           "bgcolor": "white",
           "lakecolor": "white",
           "landcolor": "#E5ECF6",
           "showlakes": true,
           "showland": true,
           "subunitcolor": "white"
          },
          "hoverlabel": {
           "align": "left"
          },
          "hovermode": "closest",
          "mapbox": {
           "style": "light"
          },
          "paper_bgcolor": "white",
          "plot_bgcolor": "#E5ECF6",
          "polar": {
           "angularaxis": {
            "gridcolor": "white",
            "linecolor": "white",
            "ticks": ""
           },
           "bgcolor": "#E5ECF6",
           "radialaxis": {
            "gridcolor": "white",
            "linecolor": "white",
            "ticks": ""
           }
          },
          "scene": {
           "xaxis": {
            "backgroundcolor": "#E5ECF6",
            "gridcolor": "white",
            "gridwidth": 2,
            "linecolor": "white",
            "showbackground": true,
            "ticks": "",
            "zerolinecolor": "white"
           },
           "yaxis": {
            "backgroundcolor": "#E5ECF6",
            "gridcolor": "white",
            "gridwidth": 2,
            "linecolor": "white",
            "showbackground": true,
            "ticks": "",
            "zerolinecolor": "white"
           },
           "zaxis": {
            "backgroundcolor": "#E5ECF6",
            "gridcolor": "white",
            "gridwidth": 2,
            "linecolor": "white",
            "showbackground": true,
            "ticks": "",
            "zerolinecolor": "white"
           }
          },
          "shapedefaults": {
           "line": {
            "color": "#2a3f5f"
           }
          },
          "ternary": {
           "aaxis": {
            "gridcolor": "white",
            "linecolor": "white",
            "ticks": ""
           },
           "baxis": {
            "gridcolor": "white",
            "linecolor": "white",
            "ticks": ""
           },
           "bgcolor": "#E5ECF6",
           "caxis": {
            "gridcolor": "white",
            "linecolor": "white",
            "ticks": ""
           }
          },
          "title": {
           "x": 0.05
          },
          "xaxis": {
           "automargin": true,
           "gridcolor": "white",
           "linecolor": "white",
           "ticks": "",
           "title": {
            "standoff": 15
           },
           "zerolinecolor": "white",
           "zerolinewidth": 2
          },
          "yaxis": {
           "automargin": true,
           "gridcolor": "white",
           "linecolor": "white",
           "ticks": "",
           "title": {
            "standoff": 15
           },
           "zerolinecolor": "white",
           "zerolinewidth": 2
          }
         }
        },
        "title": {
         "text": "Amount of spots in bike stands"
        },
        "xaxis": {
         "anchor": "y",
         "domain": [
          0,
          1
         ],
         "title": {
          "text": "Amount of spots"
         }
        },
        "yaxis": {
         "anchor": "x",
         "domain": [
          0,
          1
         ],
         "title": {
          "text": "Occurences"
         }
        }
       }
      }
     },
     "metadata": {},
     "output_type": "display_data"
    }
   ],
   "source": [
    "print(\"Mean: \", np.mean(df[\"antal_pladser\"]))\n",
    "print(\"Minimum: \", np.min(df[\"antal_pladser\"]))\n",
    "print(\"Maximum: \", np.max(df[\"antal_pladser\"]))\n",
    "\n",
    "# plt.hist(df[\"antal_pladser\"], bins=70)\n",
    "# plt.xlabel(\"Amount of spots\")\n",
    "# plt.ylabel(\"Occurences\")\n",
    "# plt.title(\"Amount of spots in bike stands\")\n",
    "# plt.show()\n",
    "\n",
    "col = px.colors.qualitative.Dark2\n",
    "\n",
    "fig = px.histogram(df, x=\"antal_pladser\", title=\"Amount of spots in bike stands\", color_discrete_sequence=[col[2]])\n",
    "fig.update_layout(xaxis_title=\"Amount of spots\", yaxis_title=\"Occurences\")  \n",
    "fig.show()"
   ]
  },
  {
   "cell_type": "code",
   "execution_count": 104,
   "metadata": {},
   "outputs": [
    {
     "data": {
      "application/vnd.plotly.v1+json": {
       "config": {
        "plotlyServerURL": "https://plot.ly"
       },
       "data": [
        {
         "alignmentgroup": "True",
         "hovertemplate": "variable=0<br>bydel=%{x}<br>value=%{y}<extra></extra>",
         "legendgroup": "0",
         "marker": {
          "color": "rgb(117,112,179)",
          "pattern": {
           "shape": ""
          }
         },
         "name": "0",
         "offsetgroup": "0",
         "orientation": "v",
         "showlegend": true,
         "textposition": "auto",
         "type": "bar",
         "x": [
          "Amager Vest",
          "Amager Øst",
          "Bispebjerg",
          "Brønshøj-Husum",
          "Indre By",
          "Nørrebro",
          "Valby",
          "Vanløse",
          "Vesterbro-Kongens Enghave",
          "Østerbro"
         ],
         "xaxis": "x",
         "y": [
          372,
          249,
          195,
          121,
          1678,
          794,
          203,
          100,
          917,
          1407
         ],
         "yaxis": "y"
        }
       ],
       "layout": {
        "barmode": "relative",
        "height": 400,
        "legend": {
         "title": {
          "text": "variable"
         },
         "tracegroupgap": 0
        },
        "margin": {
         "t": 60
        },
        "showlegend": false,
        "template": {
         "data": {
          "bar": [
           {
            "error_x": {
             "color": "#2a3f5f"
            },
            "error_y": {
             "color": "#2a3f5f"
            },
            "marker": {
             "line": {
              "color": "#E5ECF6",
              "width": 0.5
             },
             "pattern": {
              "fillmode": "overlay",
              "size": 10,
              "solidity": 0.2
             }
            },
            "type": "bar"
           }
          ],
          "barpolar": [
           {
            "marker": {
             "line": {
              "color": "#E5ECF6",
              "width": 0.5
             },
             "pattern": {
              "fillmode": "overlay",
              "size": 10,
              "solidity": 0.2
             }
            },
            "type": "barpolar"
           }
          ],
          "carpet": [
           {
            "aaxis": {
             "endlinecolor": "#2a3f5f",
             "gridcolor": "white",
             "linecolor": "white",
             "minorgridcolor": "white",
             "startlinecolor": "#2a3f5f"
            },
            "baxis": {
             "endlinecolor": "#2a3f5f",
             "gridcolor": "white",
             "linecolor": "white",
             "minorgridcolor": "white",
             "startlinecolor": "#2a3f5f"
            },
            "type": "carpet"
           }
          ],
          "choropleth": [
           {
            "colorbar": {
             "outlinewidth": 0,
             "ticks": ""
            },
            "type": "choropleth"
           }
          ],
          "contour": [
           {
            "colorbar": {
             "outlinewidth": 0,
             "ticks": ""
            },
            "colorscale": [
             [
              0,
              "#0d0887"
             ],
             [
              0.1111111111111111,
              "#46039f"
             ],
             [
              0.2222222222222222,
              "#7201a8"
             ],
             [
              0.3333333333333333,
              "#9c179e"
             ],
             [
              0.4444444444444444,
              "#bd3786"
             ],
             [
              0.5555555555555556,
              "#d8576b"
             ],
             [
              0.6666666666666666,
              "#ed7953"
             ],
             [
              0.7777777777777778,
              "#fb9f3a"
             ],
             [
              0.8888888888888888,
              "#fdca26"
             ],
             [
              1,
              "#f0f921"
             ]
            ],
            "type": "contour"
           }
          ],
          "contourcarpet": [
           {
            "colorbar": {
             "outlinewidth": 0,
             "ticks": ""
            },
            "type": "contourcarpet"
           }
          ],
          "heatmap": [
           {
            "colorbar": {
             "outlinewidth": 0,
             "ticks": ""
            },
            "colorscale": [
             [
              0,
              "#0d0887"
             ],
             [
              0.1111111111111111,
              "#46039f"
             ],
             [
              0.2222222222222222,
              "#7201a8"
             ],
             [
              0.3333333333333333,
              "#9c179e"
             ],
             [
              0.4444444444444444,
              "#bd3786"
             ],
             [
              0.5555555555555556,
              "#d8576b"
             ],
             [
              0.6666666666666666,
              "#ed7953"
             ],
             [
              0.7777777777777778,
              "#fb9f3a"
             ],
             [
              0.8888888888888888,
              "#fdca26"
             ],
             [
              1,
              "#f0f921"
             ]
            ],
            "type": "heatmap"
           }
          ],
          "heatmapgl": [
           {
            "colorbar": {
             "outlinewidth": 0,
             "ticks": ""
            },
            "colorscale": [
             [
              0,
              "#0d0887"
             ],
             [
              0.1111111111111111,
              "#46039f"
             ],
             [
              0.2222222222222222,
              "#7201a8"
             ],
             [
              0.3333333333333333,
              "#9c179e"
             ],
             [
              0.4444444444444444,
              "#bd3786"
             ],
             [
              0.5555555555555556,
              "#d8576b"
             ],
             [
              0.6666666666666666,
              "#ed7953"
             ],
             [
              0.7777777777777778,
              "#fb9f3a"
             ],
             [
              0.8888888888888888,
              "#fdca26"
             ],
             [
              1,
              "#f0f921"
             ]
            ],
            "type": "heatmapgl"
           }
          ],
          "histogram": [
           {
            "marker": {
             "pattern": {
              "fillmode": "overlay",
              "size": 10,
              "solidity": 0.2
             }
            },
            "type": "histogram"
           }
          ],
          "histogram2d": [
           {
            "colorbar": {
             "outlinewidth": 0,
             "ticks": ""
            },
            "colorscale": [
             [
              0,
              "#0d0887"
             ],
             [
              0.1111111111111111,
              "#46039f"
             ],
             [
              0.2222222222222222,
              "#7201a8"
             ],
             [
              0.3333333333333333,
              "#9c179e"
             ],
             [
              0.4444444444444444,
              "#bd3786"
             ],
             [
              0.5555555555555556,
              "#d8576b"
             ],
             [
              0.6666666666666666,
              "#ed7953"
             ],
             [
              0.7777777777777778,
              "#fb9f3a"
             ],
             [
              0.8888888888888888,
              "#fdca26"
             ],
             [
              1,
              "#f0f921"
             ]
            ],
            "type": "histogram2d"
           }
          ],
          "histogram2dcontour": [
           {
            "colorbar": {
             "outlinewidth": 0,
             "ticks": ""
            },
            "colorscale": [
             [
              0,
              "#0d0887"
             ],
             [
              0.1111111111111111,
              "#46039f"
             ],
             [
              0.2222222222222222,
              "#7201a8"
             ],
             [
              0.3333333333333333,
              "#9c179e"
             ],
             [
              0.4444444444444444,
              "#bd3786"
             ],
             [
              0.5555555555555556,
              "#d8576b"
             ],
             [
              0.6666666666666666,
              "#ed7953"
             ],
             [
              0.7777777777777778,
              "#fb9f3a"
             ],
             [
              0.8888888888888888,
              "#fdca26"
             ],
             [
              1,
              "#f0f921"
             ]
            ],
            "type": "histogram2dcontour"
           }
          ],
          "mesh3d": [
           {
            "colorbar": {
             "outlinewidth": 0,
             "ticks": ""
            },
            "type": "mesh3d"
           }
          ],
          "parcoords": [
           {
            "line": {
             "colorbar": {
              "outlinewidth": 0,
              "ticks": ""
             }
            },
            "type": "parcoords"
           }
          ],
          "pie": [
           {
            "automargin": true,
            "type": "pie"
           }
          ],
          "scatter": [
           {
            "fillpattern": {
             "fillmode": "overlay",
             "size": 10,
             "solidity": 0.2
            },
            "type": "scatter"
           }
          ],
          "scatter3d": [
           {
            "line": {
             "colorbar": {
              "outlinewidth": 0,
              "ticks": ""
             }
            },
            "marker": {
             "colorbar": {
              "outlinewidth": 0,
              "ticks": ""
             }
            },
            "type": "scatter3d"
           }
          ],
          "scattercarpet": [
           {
            "marker": {
             "colorbar": {
              "outlinewidth": 0,
              "ticks": ""
             }
            },
            "type": "scattercarpet"
           }
          ],
          "scattergeo": [
           {
            "marker": {
             "colorbar": {
              "outlinewidth": 0,
              "ticks": ""
             }
            },
            "type": "scattergeo"
           }
          ],
          "scattergl": [
           {
            "marker": {
             "colorbar": {
              "outlinewidth": 0,
              "ticks": ""
             }
            },
            "type": "scattergl"
           }
          ],
          "scattermapbox": [
           {
            "marker": {
             "colorbar": {
              "outlinewidth": 0,
              "ticks": ""
             }
            },
            "type": "scattermapbox"
           }
          ],
          "scatterpolar": [
           {
            "marker": {
             "colorbar": {
              "outlinewidth": 0,
              "ticks": ""
             }
            },
            "type": "scatterpolar"
           }
          ],
          "scatterpolargl": [
           {
            "marker": {
             "colorbar": {
              "outlinewidth": 0,
              "ticks": ""
             }
            },
            "type": "scatterpolargl"
           }
          ],
          "scatterternary": [
           {
            "marker": {
             "colorbar": {
              "outlinewidth": 0,
              "ticks": ""
             }
            },
            "type": "scatterternary"
           }
          ],
          "surface": [
           {
            "colorbar": {
             "outlinewidth": 0,
             "ticks": ""
            },
            "colorscale": [
             [
              0,
              "#0d0887"
             ],
             [
              0.1111111111111111,
              "#46039f"
             ],
             [
              0.2222222222222222,
              "#7201a8"
             ],
             [
              0.3333333333333333,
              "#9c179e"
             ],
             [
              0.4444444444444444,
              "#bd3786"
             ],
             [
              0.5555555555555556,
              "#d8576b"
             ],
             [
              0.6666666666666666,
              "#ed7953"
             ],
             [
              0.7777777777777778,
              "#fb9f3a"
             ],
             [
              0.8888888888888888,
              "#fdca26"
             ],
             [
              1,
              "#f0f921"
             ]
            ],
            "type": "surface"
           }
          ],
          "table": [
           {
            "cells": {
             "fill": {
              "color": "#EBF0F8"
             },
             "line": {
              "color": "white"
             }
            },
            "header": {
             "fill": {
              "color": "#C8D4E3"
             },
             "line": {
              "color": "white"
             }
            },
            "type": "table"
           }
          ]
         },
         "layout": {
          "annotationdefaults": {
           "arrowcolor": "#2a3f5f",
           "arrowhead": 0,
           "arrowwidth": 1
          },
          "autotypenumbers": "strict",
          "coloraxis": {
           "colorbar": {
            "outlinewidth": 0,
            "ticks": ""
           }
          },
          "colorscale": {
           "diverging": [
            [
             0,
             "#8e0152"
            ],
            [
             0.1,
             "#c51b7d"
            ],
            [
             0.2,
             "#de77ae"
            ],
            [
             0.3,
             "#f1b6da"
            ],
            [
             0.4,
             "#fde0ef"
            ],
            [
             0.5,
             "#f7f7f7"
            ],
            [
             0.6,
             "#e6f5d0"
            ],
            [
             0.7,
             "#b8e186"
            ],
            [
             0.8,
             "#7fbc41"
            ],
            [
             0.9,
             "#4d9221"
            ],
            [
             1,
             "#276419"
            ]
           ],
           "sequential": [
            [
             0,
             "#0d0887"
            ],
            [
             0.1111111111111111,
             "#46039f"
            ],
            [
             0.2222222222222222,
             "#7201a8"
            ],
            [
             0.3333333333333333,
             "#9c179e"
            ],
            [
             0.4444444444444444,
             "#bd3786"
            ],
            [
             0.5555555555555556,
             "#d8576b"
            ],
            [
             0.6666666666666666,
             "#ed7953"
            ],
            [
             0.7777777777777778,
             "#fb9f3a"
            ],
            [
             0.8888888888888888,
             "#fdca26"
            ],
            [
             1,
             "#f0f921"
            ]
           ],
           "sequentialminus": [
            [
             0,
             "#0d0887"
            ],
            [
             0.1111111111111111,
             "#46039f"
            ],
            [
             0.2222222222222222,
             "#7201a8"
            ],
            [
             0.3333333333333333,
             "#9c179e"
            ],
            [
             0.4444444444444444,
             "#bd3786"
            ],
            [
             0.5555555555555556,
             "#d8576b"
            ],
            [
             0.6666666666666666,
             "#ed7953"
            ],
            [
             0.7777777777777778,
             "#fb9f3a"
            ],
            [
             0.8888888888888888,
             "#fdca26"
            ],
            [
             1,
             "#f0f921"
            ]
           ]
          },
          "colorway": [
           "#636efa",
           "#EF553B",
           "#00cc96",
           "#ab63fa",
           "#FFA15A",
           "#19d3f3",
           "#FF6692",
           "#B6E880",
           "#FF97FF",
           "#FECB52"
          ],
          "font": {
           "color": "#2a3f5f"
          },
          "geo": {
           "bgcolor": "white",
           "lakecolor": "white",
           "landcolor": "#E5ECF6",
           "showlakes": true,
           "showland": true,
           "subunitcolor": "white"
          },
          "hoverlabel": {
           "align": "left"
          },
          "hovermode": "closest",
          "mapbox": {
           "style": "light"
          },
          "paper_bgcolor": "white",
          "plot_bgcolor": "#E5ECF6",
          "polar": {
           "angularaxis": {
            "gridcolor": "white",
            "linecolor": "white",
            "ticks": ""
           },
           "bgcolor": "#E5ECF6",
           "radialaxis": {
            "gridcolor": "white",
            "linecolor": "white",
            "ticks": ""
           }
          },
          "scene": {
           "xaxis": {
            "backgroundcolor": "#E5ECF6",
            "gridcolor": "white",
            "gridwidth": 2,
            "linecolor": "white",
            "showbackground": true,
            "ticks": "",
            "zerolinecolor": "white"
           },
           "yaxis": {
            "backgroundcolor": "#E5ECF6",
            "gridcolor": "white",
            "gridwidth": 2,
            "linecolor": "white",
            "showbackground": true,
            "ticks": "",
            "zerolinecolor": "white"
           },
           "zaxis": {
            "backgroundcolor": "#E5ECF6",
            "gridcolor": "white",
            "gridwidth": 2,
            "linecolor": "white",
            "showbackground": true,
            "ticks": "",
            "zerolinecolor": "white"
           }
          },
          "shapedefaults": {
           "line": {
            "color": "#2a3f5f"
           }
          },
          "ternary": {
           "aaxis": {
            "gridcolor": "white",
            "linecolor": "white",
            "ticks": ""
           },
           "baxis": {
            "gridcolor": "white",
            "linecolor": "white",
            "ticks": ""
           },
           "bgcolor": "#E5ECF6",
           "caxis": {
            "gridcolor": "white",
            "linecolor": "white",
            "ticks": ""
           }
          },
          "title": {
           "x": 0.05
          },
          "xaxis": {
           "automargin": true,
           "gridcolor": "white",
           "linecolor": "white",
           "ticks": "",
           "title": {
            "standoff": 15
           },
           "zerolinecolor": "white",
           "zerolinewidth": 2
          },
          "yaxis": {
           "automargin": true,
           "gridcolor": "white",
           "linecolor": "white",
           "ticks": "",
           "title": {
            "standoff": 15
           },
           "zerolinecolor": "white",
           "zerolinewidth": 2
          }
         }
        },
        "title": {
         "text": "Bike stands divided into districts"
        },
        "width": 700,
        "xaxis": {
         "anchor": "y",
         "domain": [
          0,
          1
         ],
         "title": {
          "text": "District"
         }
        },
        "yaxis": {
         "anchor": "x",
         "domain": [
          0,
          1
         ],
         "title": {
          "text": "Amount of bike stands"
         }
        }
       }
      }
     },
     "metadata": {},
     "output_type": "display_data"
    }
   ],
   "source": [
    "dist_amount = df.groupby(\"bydel\", observed=False).size()\n",
    "# print(dist_amount)\n",
    "\n",
    "# fig = plt.figure(figsize = (10, 5))\n",
    "# plt.bar(dist_amount.index, dist_amount.values)\n",
    "# plt.xlabel(\"District\")\n",
    "# plt.ylabel(\"Amount of bike stands\")\n",
    "# plt.xticks(ticks=range(len(dist_amount.index)), labels=dist_amount.index, rotation=90)\n",
    "# plt.show()\n",
    "\n",
    "fig = dist_amount.plot.bar(color_discrete_sequence=[col[2]], width=700, height=400)\n",
    "fig.update_layout(title=\"Bike stands divided into districts\", yaxis_title=\"Amount of bike stands\", xaxis_title=\"District\", showlegend=False)\n",
    "fig.show()"
   ]
  },
  {
   "cell_type": "code",
   "execution_count": 103,
   "metadata": {},
   "outputs": [
    {
     "data": {
      "application/vnd.plotly.v1+json": {
       "config": {
        "plotlyServerURL": "https://plot.ly"
       },
       "data": [
        {
         "alignmentgroup": "True",
         "hovertemplate": "variable=0<br>stativ_placering=%{x}<br>value=%{y}<extra></extra>",
         "legendgroup": "0",
         "marker": {
          "color": "rgb(117,112,179)",
          "pattern": {
           "shape": ""
          }
         },
         "name": "0",
         "offsetgroup": "0",
         "orientation": "v",
         "showlegend": true,
         "textposition": "auto",
         "type": "bar",
         "x": [
          "Andet",
          "Ikke registreret",
          "På facade",
          "På fortov",
          "På fortovsudvidelse",
          "På gadeareal",
          "På plads",
          "Tæt på facade"
         ],
         "xaxis": "x",
         "y": [
          151,
          369,
          1472,
          777,
          1075,
          517,
          948,
          833
         ],
         "yaxis": "y"
        }
       ],
       "layout": {
        "barmode": "relative",
        "height": 400,
        "legend": {
         "title": {
          "text": "variable"
         },
         "tracegroupgap": 0
        },
        "margin": {
         "t": 60
        },
        "showlegend": false,
        "template": {
         "data": {
          "bar": [
           {
            "error_x": {
             "color": "#2a3f5f"
            },
            "error_y": {
             "color": "#2a3f5f"
            },
            "marker": {
             "line": {
              "color": "#E5ECF6",
              "width": 0.5
             },
             "pattern": {
              "fillmode": "overlay",
              "size": 10,
              "solidity": 0.2
             }
            },
            "type": "bar"
           }
          ],
          "barpolar": [
           {
            "marker": {
             "line": {
              "color": "#E5ECF6",
              "width": 0.5
             },
             "pattern": {
              "fillmode": "overlay",
              "size": 10,
              "solidity": 0.2
             }
            },
            "type": "barpolar"
           }
          ],
          "carpet": [
           {
            "aaxis": {
             "endlinecolor": "#2a3f5f",
             "gridcolor": "white",
             "linecolor": "white",
             "minorgridcolor": "white",
             "startlinecolor": "#2a3f5f"
            },
            "baxis": {
             "endlinecolor": "#2a3f5f",
             "gridcolor": "white",
             "linecolor": "white",
             "minorgridcolor": "white",
             "startlinecolor": "#2a3f5f"
            },
            "type": "carpet"
           }
          ],
          "choropleth": [
           {
            "colorbar": {
             "outlinewidth": 0,
             "ticks": ""
            },
            "type": "choropleth"
           }
          ],
          "contour": [
           {
            "colorbar": {
             "outlinewidth": 0,
             "ticks": ""
            },
            "colorscale": [
             [
              0,
              "#0d0887"
             ],
             [
              0.1111111111111111,
              "#46039f"
             ],
             [
              0.2222222222222222,
              "#7201a8"
             ],
             [
              0.3333333333333333,
              "#9c179e"
             ],
             [
              0.4444444444444444,
              "#bd3786"
             ],
             [
              0.5555555555555556,
              "#d8576b"
             ],
             [
              0.6666666666666666,
              "#ed7953"
             ],
             [
              0.7777777777777778,
              "#fb9f3a"
             ],
             [
              0.8888888888888888,
              "#fdca26"
             ],
             [
              1,
              "#f0f921"
             ]
            ],
            "type": "contour"
           }
          ],
          "contourcarpet": [
           {
            "colorbar": {
             "outlinewidth": 0,
             "ticks": ""
            },
            "type": "contourcarpet"
           }
          ],
          "heatmap": [
           {
            "colorbar": {
             "outlinewidth": 0,
             "ticks": ""
            },
            "colorscale": [
             [
              0,
              "#0d0887"
             ],
             [
              0.1111111111111111,
              "#46039f"
             ],
             [
              0.2222222222222222,
              "#7201a8"
             ],
             [
              0.3333333333333333,
              "#9c179e"
             ],
             [
              0.4444444444444444,
              "#bd3786"
             ],
             [
              0.5555555555555556,
              "#d8576b"
             ],
             [
              0.6666666666666666,
              "#ed7953"
             ],
             [
              0.7777777777777778,
              "#fb9f3a"
             ],
             [
              0.8888888888888888,
              "#fdca26"
             ],
             [
              1,
              "#f0f921"
             ]
            ],
            "type": "heatmap"
           }
          ],
          "heatmapgl": [
           {
            "colorbar": {
             "outlinewidth": 0,
             "ticks": ""
            },
            "colorscale": [
             [
              0,
              "#0d0887"
             ],
             [
              0.1111111111111111,
              "#46039f"
             ],
             [
              0.2222222222222222,
              "#7201a8"
             ],
             [
              0.3333333333333333,
              "#9c179e"
             ],
             [
              0.4444444444444444,
              "#bd3786"
             ],
             [
              0.5555555555555556,
              "#d8576b"
             ],
             [
              0.6666666666666666,
              "#ed7953"
             ],
             [
              0.7777777777777778,
              "#fb9f3a"
             ],
             [
              0.8888888888888888,
              "#fdca26"
             ],
             [
              1,
              "#f0f921"
             ]
            ],
            "type": "heatmapgl"
           }
          ],
          "histogram": [
           {
            "marker": {
             "pattern": {
              "fillmode": "overlay",
              "size": 10,
              "solidity": 0.2
             }
            },
            "type": "histogram"
           }
          ],
          "histogram2d": [
           {
            "colorbar": {
             "outlinewidth": 0,
             "ticks": ""
            },
            "colorscale": [
             [
              0,
              "#0d0887"
             ],
             [
              0.1111111111111111,
              "#46039f"
             ],
             [
              0.2222222222222222,
              "#7201a8"
             ],
             [
              0.3333333333333333,
              "#9c179e"
             ],
             [
              0.4444444444444444,
              "#bd3786"
             ],
             [
              0.5555555555555556,
              "#d8576b"
             ],
             [
              0.6666666666666666,
              "#ed7953"
             ],
             [
              0.7777777777777778,
              "#fb9f3a"
             ],
             [
              0.8888888888888888,
              "#fdca26"
             ],
             [
              1,
              "#f0f921"
             ]
            ],
            "type": "histogram2d"
           }
          ],
          "histogram2dcontour": [
           {
            "colorbar": {
             "outlinewidth": 0,
             "ticks": ""
            },
            "colorscale": [
             [
              0,
              "#0d0887"
             ],
             [
              0.1111111111111111,
              "#46039f"
             ],
             [
              0.2222222222222222,
              "#7201a8"
             ],
             [
              0.3333333333333333,
              "#9c179e"
             ],
             [
              0.4444444444444444,
              "#bd3786"
             ],
             [
              0.5555555555555556,
              "#d8576b"
             ],
             [
              0.6666666666666666,
              "#ed7953"
             ],
             [
              0.7777777777777778,
              "#fb9f3a"
             ],
             [
              0.8888888888888888,
              "#fdca26"
             ],
             [
              1,
              "#f0f921"
             ]
            ],
            "type": "histogram2dcontour"
           }
          ],
          "mesh3d": [
           {
            "colorbar": {
             "outlinewidth": 0,
             "ticks": ""
            },
            "type": "mesh3d"
           }
          ],
          "parcoords": [
           {
            "line": {
             "colorbar": {
              "outlinewidth": 0,
              "ticks": ""
             }
            },
            "type": "parcoords"
           }
          ],
          "pie": [
           {
            "automargin": true,
            "type": "pie"
           }
          ],
          "scatter": [
           {
            "fillpattern": {
             "fillmode": "overlay",
             "size": 10,
             "solidity": 0.2
            },
            "type": "scatter"
           }
          ],
          "scatter3d": [
           {
            "line": {
             "colorbar": {
              "outlinewidth": 0,
              "ticks": ""
             }
            },
            "marker": {
             "colorbar": {
              "outlinewidth": 0,
              "ticks": ""
             }
            },
            "type": "scatter3d"
           }
          ],
          "scattercarpet": [
           {
            "marker": {
             "colorbar": {
              "outlinewidth": 0,
              "ticks": ""
             }
            },
            "type": "scattercarpet"
           }
          ],
          "scattergeo": [
           {
            "marker": {
             "colorbar": {
              "outlinewidth": 0,
              "ticks": ""
             }
            },
            "type": "scattergeo"
           }
          ],
          "scattergl": [
           {
            "marker": {
             "colorbar": {
              "outlinewidth": 0,
              "ticks": ""
             }
            },
            "type": "scattergl"
           }
          ],
          "scattermapbox": [
           {
            "marker": {
             "colorbar": {
              "outlinewidth": 0,
              "ticks": ""
             }
            },
            "type": "scattermapbox"
           }
          ],
          "scatterpolar": [
           {
            "marker": {
             "colorbar": {
              "outlinewidth": 0,
              "ticks": ""
             }
            },
            "type": "scatterpolar"
           }
          ],
          "scatterpolargl": [
           {
            "marker": {
             "colorbar": {
              "outlinewidth": 0,
              "ticks": ""
             }
            },
            "type": "scatterpolargl"
           }
          ],
          "scatterternary": [
           {
            "marker": {
             "colorbar": {
              "outlinewidth": 0,
              "ticks": ""
             }
            },
            "type": "scatterternary"
           }
          ],
          "surface": [
           {
            "colorbar": {
             "outlinewidth": 0,
             "ticks": ""
            },
            "colorscale": [
             [
              0,
              "#0d0887"
             ],
             [
              0.1111111111111111,
              "#46039f"
             ],
             [
              0.2222222222222222,
              "#7201a8"
             ],
             [
              0.3333333333333333,
              "#9c179e"
             ],
             [
              0.4444444444444444,
              "#bd3786"
             ],
             [
              0.5555555555555556,
              "#d8576b"
             ],
             [
              0.6666666666666666,
              "#ed7953"
             ],
             [
              0.7777777777777778,
              "#fb9f3a"
             ],
             [
              0.8888888888888888,
              "#fdca26"
             ],
             [
              1,
              "#f0f921"
             ]
            ],
            "type": "surface"
           }
          ],
          "table": [
           {
            "cells": {
             "fill": {
              "color": "#EBF0F8"
             },
             "line": {
              "color": "white"
             }
            },
            "header": {
             "fill": {
              "color": "#C8D4E3"
             },
             "line": {
              "color": "white"
             }
            },
            "type": "table"
           }
          ]
         },
         "layout": {
          "annotationdefaults": {
           "arrowcolor": "#2a3f5f",
           "arrowhead": 0,
           "arrowwidth": 1
          },
          "autotypenumbers": "strict",
          "coloraxis": {
           "colorbar": {
            "outlinewidth": 0,
            "ticks": ""
           }
          },
          "colorscale": {
           "diverging": [
            [
             0,
             "#8e0152"
            ],
            [
             0.1,
             "#c51b7d"
            ],
            [
             0.2,
             "#de77ae"
            ],
            [
             0.3,
             "#f1b6da"
            ],
            [
             0.4,
             "#fde0ef"
            ],
            [
             0.5,
             "#f7f7f7"
            ],
            [
             0.6,
             "#e6f5d0"
            ],
            [
             0.7,
             "#b8e186"
            ],
            [
             0.8,
             "#7fbc41"
            ],
            [
             0.9,
             "#4d9221"
            ],
            [
             1,
             "#276419"
            ]
           ],
           "sequential": [
            [
             0,
             "#0d0887"
            ],
            [
             0.1111111111111111,
             "#46039f"
            ],
            [
             0.2222222222222222,
             "#7201a8"
            ],
            [
             0.3333333333333333,
             "#9c179e"
            ],
            [
             0.4444444444444444,
             "#bd3786"
            ],
            [
             0.5555555555555556,
             "#d8576b"
            ],
            [
             0.6666666666666666,
             "#ed7953"
            ],
            [
             0.7777777777777778,
             "#fb9f3a"
            ],
            [
             0.8888888888888888,
             "#fdca26"
            ],
            [
             1,
             "#f0f921"
            ]
           ],
           "sequentialminus": [
            [
             0,
             "#0d0887"
            ],
            [
             0.1111111111111111,
             "#46039f"
            ],
            [
             0.2222222222222222,
             "#7201a8"
            ],
            [
             0.3333333333333333,
             "#9c179e"
            ],
            [
             0.4444444444444444,
             "#bd3786"
            ],
            [
             0.5555555555555556,
             "#d8576b"
            ],
            [
             0.6666666666666666,
             "#ed7953"
            ],
            [
             0.7777777777777778,
             "#fb9f3a"
            ],
            [
             0.8888888888888888,
             "#fdca26"
            ],
            [
             1,
             "#f0f921"
            ]
           ]
          },
          "colorway": [
           "#636efa",
           "#EF553B",
           "#00cc96",
           "#ab63fa",
           "#FFA15A",
           "#19d3f3",
           "#FF6692",
           "#B6E880",
           "#FF97FF",
           "#FECB52"
          ],
          "font": {
           "color": "#2a3f5f"
          },
          "geo": {
           "bgcolor": "white",
           "lakecolor": "white",
           "landcolor": "#E5ECF6",
           "showlakes": true,
           "showland": true,
           "subunitcolor": "white"
          },
          "hoverlabel": {
           "align": "left"
          },
          "hovermode": "closest",
          "mapbox": {
           "style": "light"
          },
          "paper_bgcolor": "white",
          "plot_bgcolor": "#E5ECF6",
          "polar": {
           "angularaxis": {
            "gridcolor": "white",
            "linecolor": "white",
            "ticks": ""
           },
           "bgcolor": "#E5ECF6",
           "radialaxis": {
            "gridcolor": "white",
            "linecolor": "white",
            "ticks": ""
           }
          },
          "scene": {
           "xaxis": {
            "backgroundcolor": "#E5ECF6",
            "gridcolor": "white",
            "gridwidth": 2,
            "linecolor": "white",
            "showbackground": true,
            "ticks": "",
            "zerolinecolor": "white"
           },
           "yaxis": {
            "backgroundcolor": "#E5ECF6",
            "gridcolor": "white",
            "gridwidth": 2,
            "linecolor": "white",
            "showbackground": true,
            "ticks": "",
            "zerolinecolor": "white"
           },
           "zaxis": {
            "backgroundcolor": "#E5ECF6",
            "gridcolor": "white",
            "gridwidth": 2,
            "linecolor": "white",
            "showbackground": true,
            "ticks": "",
            "zerolinecolor": "white"
           }
          },
          "shapedefaults": {
           "line": {
            "color": "#2a3f5f"
           }
          },
          "ternary": {
           "aaxis": {
            "gridcolor": "white",
            "linecolor": "white",
            "ticks": ""
           },
           "baxis": {
            "gridcolor": "white",
            "linecolor": "white",
            "ticks": ""
           },
           "bgcolor": "#E5ECF6",
           "caxis": {
            "gridcolor": "white",
            "linecolor": "white",
            "ticks": ""
           }
          },
          "title": {
           "x": 0.05
          },
          "xaxis": {
           "automargin": true,
           "gridcolor": "white",
           "linecolor": "white",
           "ticks": "",
           "title": {
            "standoff": 15
           },
           "zerolinecolor": "white",
           "zerolinewidth": 2
          },
          "yaxis": {
           "automargin": true,
           "gridcolor": "white",
           "linecolor": "white",
           "ticks": "",
           "title": {
            "standoff": 15
           },
           "zerolinecolor": "white",
           "zerolinewidth": 2
          }
         }
        },
        "title": {
         "text": "Location of bike stands"
        },
        "width": 700,
        "xaxis": {
         "anchor": "y",
         "domain": [
          0,
          1
         ],
         "title": {
          "text": "Bike stand location"
         }
        },
        "yaxis": {
         "anchor": "x",
         "domain": [
          0,
          1
         ],
         "title": {
          "text": "Amount of bike stands"
         }
        }
       }
      }
     },
     "metadata": {},
     "output_type": "display_data"
    }
   ],
   "source": [
    "place_amount = df.groupby(\"stativ_placering\", observed=False).size()\n",
    "# print(place_amount)\n",
    "\n",
    "# fig = plt.figure(figsize = (10, 5))\n",
    "# plt.bar(place_amount.index, place_amount.values)\n",
    "# plt.xlabel(\"Bike stand location\")\n",
    "# plt.ylabel(\"Amount of bike stands\")\n",
    "# plt.xticks(ticks=range(len(place_amount.index)), labels=place_amount.index, rotation=90)\n",
    "# plt.show()\n",
    "\n",
    "fig = place_amount.plot.bar(color_discrete_sequence=[col[2]], width=700, height=400)\n",
    "fig.update_layout(title=\"Location of bike stands\", yaxis_title=\"Amount of bike stands\", xaxis_title=\"Bike stand location\", showlegend=False)\n",
    "fig.show()"
   ]
  },
  {
   "cell_type": "code",
   "execution_count": 101,
   "metadata": {},
   "outputs": [
    {
     "data": {
      "application/vnd.plotly.v1+json": {
       "config": {
        "plotlyServerURL": "https://plot.ly"
       },
       "data": [
        {
         "alignmentgroup": "True",
         "hovertemplate": "variable=0<br>stativ_udformning=%{x}<br>value=%{y}<extra></extra>",
         "legendgroup": "0",
         "marker": {
          "color": "rgb(117,112,179)",
          "pattern": {
           "shape": ""
          }
         },
         "name": "0",
         "offsetgroup": "0",
         "orientation": "v",
         "showlegend": true,
         "textposition": "auto",
         "type": "bar",
         "x": [
          "Andet",
          "Dobbeltsidet",
          "Enkeltsidet",
          "Ikke registreret",
          "Rundt"
         ],
         "xaxis": "x",
         "y": [
          7,
          992,
          4830,
          248,
          65
         ],
         "yaxis": "y"
        }
       ],
       "layout": {
        "barmode": "relative",
        "height": 400,
        "legend": {
         "title": {
          "text": "variable"
         },
         "tracegroupgap": 0
        },
        "margin": {
         "t": 60
        },
        "showlegend": false,
        "template": {
         "data": {
          "bar": [
           {
            "error_x": {
             "color": "#2a3f5f"
            },
            "error_y": {
             "color": "#2a3f5f"
            },
            "marker": {
             "line": {
              "color": "#E5ECF6",
              "width": 0.5
             },
             "pattern": {
              "fillmode": "overlay",
              "size": 10,
              "solidity": 0.2
             }
            },
            "type": "bar"
           }
          ],
          "barpolar": [
           {
            "marker": {
             "line": {
              "color": "#E5ECF6",
              "width": 0.5
             },
             "pattern": {
              "fillmode": "overlay",
              "size": 10,
              "solidity": 0.2
             }
            },
            "type": "barpolar"
           }
          ],
          "carpet": [
           {
            "aaxis": {
             "endlinecolor": "#2a3f5f",
             "gridcolor": "white",
             "linecolor": "white",
             "minorgridcolor": "white",
             "startlinecolor": "#2a3f5f"
            },
            "baxis": {
             "endlinecolor": "#2a3f5f",
             "gridcolor": "white",
             "linecolor": "white",
             "minorgridcolor": "white",
             "startlinecolor": "#2a3f5f"
            },
            "type": "carpet"
           }
          ],
          "choropleth": [
           {
            "colorbar": {
             "outlinewidth": 0,
             "ticks": ""
            },
            "type": "choropleth"
           }
          ],
          "contour": [
           {
            "colorbar": {
             "outlinewidth": 0,
             "ticks": ""
            },
            "colorscale": [
             [
              0,
              "#0d0887"
             ],
             [
              0.1111111111111111,
              "#46039f"
             ],
             [
              0.2222222222222222,
              "#7201a8"
             ],
             [
              0.3333333333333333,
              "#9c179e"
             ],
             [
              0.4444444444444444,
              "#bd3786"
             ],
             [
              0.5555555555555556,
              "#d8576b"
             ],
             [
              0.6666666666666666,
              "#ed7953"
             ],
             [
              0.7777777777777778,
              "#fb9f3a"
             ],
             [
              0.8888888888888888,
              "#fdca26"
             ],
             [
              1,
              "#f0f921"
             ]
            ],
            "type": "contour"
           }
          ],
          "contourcarpet": [
           {
            "colorbar": {
             "outlinewidth": 0,
             "ticks": ""
            },
            "type": "contourcarpet"
           }
          ],
          "heatmap": [
           {
            "colorbar": {
             "outlinewidth": 0,
             "ticks": ""
            },
            "colorscale": [
             [
              0,
              "#0d0887"
             ],
             [
              0.1111111111111111,
              "#46039f"
             ],
             [
              0.2222222222222222,
              "#7201a8"
             ],
             [
              0.3333333333333333,
              "#9c179e"
             ],
             [
              0.4444444444444444,
              "#bd3786"
             ],
             [
              0.5555555555555556,
              "#d8576b"
             ],
             [
              0.6666666666666666,
              "#ed7953"
             ],
             [
              0.7777777777777778,
              "#fb9f3a"
             ],
             [
              0.8888888888888888,
              "#fdca26"
             ],
             [
              1,
              "#f0f921"
             ]
            ],
            "type": "heatmap"
           }
          ],
          "heatmapgl": [
           {
            "colorbar": {
             "outlinewidth": 0,
             "ticks": ""
            },
            "colorscale": [
             [
              0,
              "#0d0887"
             ],
             [
              0.1111111111111111,
              "#46039f"
             ],
             [
              0.2222222222222222,
              "#7201a8"
             ],
             [
              0.3333333333333333,
              "#9c179e"
             ],
             [
              0.4444444444444444,
              "#bd3786"
             ],
             [
              0.5555555555555556,
              "#d8576b"
             ],
             [
              0.6666666666666666,
              "#ed7953"
             ],
             [
              0.7777777777777778,
              "#fb9f3a"
             ],
             [
              0.8888888888888888,
              "#fdca26"
             ],
             [
              1,
              "#f0f921"
             ]
            ],
            "type": "heatmapgl"
           }
          ],
          "histogram": [
           {
            "marker": {
             "pattern": {
              "fillmode": "overlay",
              "size": 10,
              "solidity": 0.2
             }
            },
            "type": "histogram"
           }
          ],
          "histogram2d": [
           {
            "colorbar": {
             "outlinewidth": 0,
             "ticks": ""
            },
            "colorscale": [
             [
              0,
              "#0d0887"
             ],
             [
              0.1111111111111111,
              "#46039f"
             ],
             [
              0.2222222222222222,
              "#7201a8"
             ],
             [
              0.3333333333333333,
              "#9c179e"
             ],
             [
              0.4444444444444444,
              "#bd3786"
             ],
             [
              0.5555555555555556,
              "#d8576b"
             ],
             [
              0.6666666666666666,
              "#ed7953"
             ],
             [
              0.7777777777777778,
              "#fb9f3a"
             ],
             [
              0.8888888888888888,
              "#fdca26"
             ],
             [
              1,
              "#f0f921"
             ]
            ],
            "type": "histogram2d"
           }
          ],
          "histogram2dcontour": [
           {
            "colorbar": {
             "outlinewidth": 0,
             "ticks": ""
            },
            "colorscale": [
             [
              0,
              "#0d0887"
             ],
             [
              0.1111111111111111,
              "#46039f"
             ],
             [
              0.2222222222222222,
              "#7201a8"
             ],
             [
              0.3333333333333333,
              "#9c179e"
             ],
             [
              0.4444444444444444,
              "#bd3786"
             ],
             [
              0.5555555555555556,
              "#d8576b"
             ],
             [
              0.6666666666666666,
              "#ed7953"
             ],
             [
              0.7777777777777778,
              "#fb9f3a"
             ],
             [
              0.8888888888888888,
              "#fdca26"
             ],
             [
              1,
              "#f0f921"
             ]
            ],
            "type": "histogram2dcontour"
           }
          ],
          "mesh3d": [
           {
            "colorbar": {
             "outlinewidth": 0,
             "ticks": ""
            },
            "type": "mesh3d"
           }
          ],
          "parcoords": [
           {
            "line": {
             "colorbar": {
              "outlinewidth": 0,
              "ticks": ""
             }
            },
            "type": "parcoords"
           }
          ],
          "pie": [
           {
            "automargin": true,
            "type": "pie"
           }
          ],
          "scatter": [
           {
            "fillpattern": {
             "fillmode": "overlay",
             "size": 10,
             "solidity": 0.2
            },
            "type": "scatter"
           }
          ],
          "scatter3d": [
           {
            "line": {
             "colorbar": {
              "outlinewidth": 0,
              "ticks": ""
             }
            },
            "marker": {
             "colorbar": {
              "outlinewidth": 0,
              "ticks": ""
             }
            },
            "type": "scatter3d"
           }
          ],
          "scattercarpet": [
           {
            "marker": {
             "colorbar": {
              "outlinewidth": 0,
              "ticks": ""
             }
            },
            "type": "scattercarpet"
           }
          ],
          "scattergeo": [
           {
            "marker": {
             "colorbar": {
              "outlinewidth": 0,
              "ticks": ""
             }
            },
            "type": "scattergeo"
           }
          ],
          "scattergl": [
           {
            "marker": {
             "colorbar": {
              "outlinewidth": 0,
              "ticks": ""
             }
            },
            "type": "scattergl"
           }
          ],
          "scattermapbox": [
           {
            "marker": {
             "colorbar": {
              "outlinewidth": 0,
              "ticks": ""
             }
            },
            "type": "scattermapbox"
           }
          ],
          "scatterpolar": [
           {
            "marker": {
             "colorbar": {
              "outlinewidth": 0,
              "ticks": ""
             }
            },
            "type": "scatterpolar"
           }
          ],
          "scatterpolargl": [
           {
            "marker": {
             "colorbar": {
              "outlinewidth": 0,
              "ticks": ""
             }
            },
            "type": "scatterpolargl"
           }
          ],
          "scatterternary": [
           {
            "marker": {
             "colorbar": {
              "outlinewidth": 0,
              "ticks": ""
             }
            },
            "type": "scatterternary"
           }
          ],
          "surface": [
           {
            "colorbar": {
             "outlinewidth": 0,
             "ticks": ""
            },
            "colorscale": [
             [
              0,
              "#0d0887"
             ],
             [
              0.1111111111111111,
              "#46039f"
             ],
             [
              0.2222222222222222,
              "#7201a8"
             ],
             [
              0.3333333333333333,
              "#9c179e"
             ],
             [
              0.4444444444444444,
              "#bd3786"
             ],
             [
              0.5555555555555556,
              "#d8576b"
             ],
             [
              0.6666666666666666,
              "#ed7953"
             ],
             [
              0.7777777777777778,
              "#fb9f3a"
             ],
             [
              0.8888888888888888,
              "#fdca26"
             ],
             [
              1,
              "#f0f921"
             ]
            ],
            "type": "surface"
           }
          ],
          "table": [
           {
            "cells": {
             "fill": {
              "color": "#EBF0F8"
             },
             "line": {
              "color": "white"
             }
            },
            "header": {
             "fill": {
              "color": "#C8D4E3"
             },
             "line": {
              "color": "white"
             }
            },
            "type": "table"
           }
          ]
         },
         "layout": {
          "annotationdefaults": {
           "arrowcolor": "#2a3f5f",
           "arrowhead": 0,
           "arrowwidth": 1
          },
          "autotypenumbers": "strict",
          "coloraxis": {
           "colorbar": {
            "outlinewidth": 0,
            "ticks": ""
           }
          },
          "colorscale": {
           "diverging": [
            [
             0,
             "#8e0152"
            ],
            [
             0.1,
             "#c51b7d"
            ],
            [
             0.2,
             "#de77ae"
            ],
            [
             0.3,
             "#f1b6da"
            ],
            [
             0.4,
             "#fde0ef"
            ],
            [
             0.5,
             "#f7f7f7"
            ],
            [
             0.6,
             "#e6f5d0"
            ],
            [
             0.7,
             "#b8e186"
            ],
            [
             0.8,
             "#7fbc41"
            ],
            [
             0.9,
             "#4d9221"
            ],
            [
             1,
             "#276419"
            ]
           ],
           "sequential": [
            [
             0,
             "#0d0887"
            ],
            [
             0.1111111111111111,
             "#46039f"
            ],
            [
             0.2222222222222222,
             "#7201a8"
            ],
            [
             0.3333333333333333,
             "#9c179e"
            ],
            [
             0.4444444444444444,
             "#bd3786"
            ],
            [
             0.5555555555555556,
             "#d8576b"
            ],
            [
             0.6666666666666666,
             "#ed7953"
            ],
            [
             0.7777777777777778,
             "#fb9f3a"
            ],
            [
             0.8888888888888888,
             "#fdca26"
            ],
            [
             1,
             "#f0f921"
            ]
           ],
           "sequentialminus": [
            [
             0,
             "#0d0887"
            ],
            [
             0.1111111111111111,
             "#46039f"
            ],
            [
             0.2222222222222222,
             "#7201a8"
            ],
            [
             0.3333333333333333,
             "#9c179e"
            ],
            [
             0.4444444444444444,
             "#bd3786"
            ],
            [
             0.5555555555555556,
             "#d8576b"
            ],
            [
             0.6666666666666666,
             "#ed7953"
            ],
            [
             0.7777777777777778,
             "#fb9f3a"
            ],
            [
             0.8888888888888888,
             "#fdca26"
            ],
            [
             1,
             "#f0f921"
            ]
           ]
          },
          "colorway": [
           "#636efa",
           "#EF553B",
           "#00cc96",
           "#ab63fa",
           "#FFA15A",
           "#19d3f3",
           "#FF6692",
           "#B6E880",
           "#FF97FF",
           "#FECB52"
          ],
          "font": {
           "color": "#2a3f5f"
          },
          "geo": {
           "bgcolor": "white",
           "lakecolor": "white",
           "landcolor": "#E5ECF6",
           "showlakes": true,
           "showland": true,
           "subunitcolor": "white"
          },
          "hoverlabel": {
           "align": "left"
          },
          "hovermode": "closest",
          "mapbox": {
           "style": "light"
          },
          "paper_bgcolor": "white",
          "plot_bgcolor": "#E5ECF6",
          "polar": {
           "angularaxis": {
            "gridcolor": "white",
            "linecolor": "white",
            "ticks": ""
           },
           "bgcolor": "#E5ECF6",
           "radialaxis": {
            "gridcolor": "white",
            "linecolor": "white",
            "ticks": ""
           }
          },
          "scene": {
           "xaxis": {
            "backgroundcolor": "#E5ECF6",
            "gridcolor": "white",
            "gridwidth": 2,
            "linecolor": "white",
            "showbackground": true,
            "ticks": "",
            "zerolinecolor": "white"
           },
           "yaxis": {
            "backgroundcolor": "#E5ECF6",
            "gridcolor": "white",
            "gridwidth": 2,
            "linecolor": "white",
            "showbackground": true,
            "ticks": "",
            "zerolinecolor": "white"
           },
           "zaxis": {
            "backgroundcolor": "#E5ECF6",
            "gridcolor": "white",
            "gridwidth": 2,
            "linecolor": "white",
            "showbackground": true,
            "ticks": "",
            "zerolinecolor": "white"
           }
          },
          "shapedefaults": {
           "line": {
            "color": "#2a3f5f"
           }
          },
          "ternary": {
           "aaxis": {
            "gridcolor": "white",
            "linecolor": "white",
            "ticks": ""
           },
           "baxis": {
            "gridcolor": "white",
            "linecolor": "white",
            "ticks": ""
           },
           "bgcolor": "#E5ECF6",
           "caxis": {
            "gridcolor": "white",
            "linecolor": "white",
            "ticks": ""
           }
          },
          "title": {
           "x": 0.05
          },
          "xaxis": {
           "automargin": true,
           "gridcolor": "white",
           "linecolor": "white",
           "ticks": "",
           "title": {
            "standoff": 15
           },
           "zerolinecolor": "white",
           "zerolinewidth": 2
          },
          "yaxis": {
           "automargin": true,
           "gridcolor": "white",
           "linecolor": "white",
           "ticks": "",
           "title": {
            "standoff": 15
           },
           "zerolinecolor": "white",
           "zerolinewidth": 2
          }
         }
        },
        "title": {
         "text": "Bike stands per different stand design"
        },
        "width": 700,
        "xaxis": {
         "anchor": "y",
         "domain": [
          0,
          1
         ],
         "title": {
          "text": "Bike stand design"
         }
        },
        "yaxis": {
         "anchor": "x",
         "domain": [
          0,
          1
         ],
         "title": {
          "text": "Amount of bike stands"
         }
        }
       }
      }
     },
     "metadata": {},
     "output_type": "display_data"
    }
   ],
   "source": [
    "stand_design = df.groupby(\"stativ_udformning\", observed=False).size()\n",
    "# print(stand_design)\n",
    "\n",
    "# fig = plt.figure(figsize = (10, 5))\n",
    "# plt.bar(stand_design.index, stand_design.values)\n",
    "# plt.xlabel(\"Bike stand design\")\n",
    "# plt.ylabel(\"Amount of bike stands\")\n",
    "# plt.xticks(ticks=range(len(stand_design.index)), labels=stand_design.index, rotation=90)\n",
    "# plt.show()\n",
    "\n",
    "fig = stand_design.plot.bar(color_discrete_sequence=[col[2]], width=700, height=400)\n",
    "fig.update_layout(title=\"Bike stands per different stand design\", yaxis_title=\"Amount of bike stands\", xaxis_title=\"Bike stand design\", showlegend=False)\n",
    "fig.show()"
   ]
  },
  {
   "cell_type": "code",
   "execution_count": 102,
   "metadata": {},
   "outputs": [
    {
     "data": {
      "application/vnd.plotly.v1+json": {
       "config": {
        "plotlyServerURL": "https://plot.ly"
       },
       "data": [
        {
         "alignmentgroup": "True",
         "hovertemplate": "variable=0<br>stativ_ejer=%{x}<br>value=%{y}<extra></extra>",
         "legendgroup": "0",
         "marker": {
          "color": "rgb(117,112,179)",
          "pattern": {
           "shape": ""
          }
         },
         "name": "0",
         "offsetgroup": "0",
         "orientation": "v",
         "showlegend": true,
         "textposition": "auto",
         "type": "bar",
         "x": [
          "Ikke registreret",
          "Offentligt",
          "Privat"
         ],
         "xaxis": "x",
         "y": [
          519,
          2777,
          2846
         ],
         "yaxis": "y"
        }
       ],
       "layout": {
        "barmode": "relative",
        "height": 400,
        "legend": {
         "title": {
          "text": "variable"
         },
         "tracegroupgap": 0
        },
        "margin": {
         "t": 60
        },
        "showlegend": false,
        "template": {
         "data": {
          "bar": [
           {
            "error_x": {
             "color": "#2a3f5f"
            },
            "error_y": {
             "color": "#2a3f5f"
            },
            "marker": {
             "line": {
              "color": "#E5ECF6",
              "width": 0.5
             },
             "pattern": {
              "fillmode": "overlay",
              "size": 10,
              "solidity": 0.2
             }
            },
            "type": "bar"
           }
          ],
          "barpolar": [
           {
            "marker": {
             "line": {
              "color": "#E5ECF6",
              "width": 0.5
             },
             "pattern": {
              "fillmode": "overlay",
              "size": 10,
              "solidity": 0.2
             }
            },
            "type": "barpolar"
           }
          ],
          "carpet": [
           {
            "aaxis": {
             "endlinecolor": "#2a3f5f",
             "gridcolor": "white",
             "linecolor": "white",
             "minorgridcolor": "white",
             "startlinecolor": "#2a3f5f"
            },
            "baxis": {
             "endlinecolor": "#2a3f5f",
             "gridcolor": "white",
             "linecolor": "white",
             "minorgridcolor": "white",
             "startlinecolor": "#2a3f5f"
            },
            "type": "carpet"
           }
          ],
          "choropleth": [
           {
            "colorbar": {
             "outlinewidth": 0,
             "ticks": ""
            },
            "type": "choropleth"
           }
          ],
          "contour": [
           {
            "colorbar": {
             "outlinewidth": 0,
             "ticks": ""
            },
            "colorscale": [
             [
              0,
              "#0d0887"
             ],
             [
              0.1111111111111111,
              "#46039f"
             ],
             [
              0.2222222222222222,
              "#7201a8"
             ],
             [
              0.3333333333333333,
              "#9c179e"
             ],
             [
              0.4444444444444444,
              "#bd3786"
             ],
             [
              0.5555555555555556,
              "#d8576b"
             ],
             [
              0.6666666666666666,
              "#ed7953"
             ],
             [
              0.7777777777777778,
              "#fb9f3a"
             ],
             [
              0.8888888888888888,
              "#fdca26"
             ],
             [
              1,
              "#f0f921"
             ]
            ],
            "type": "contour"
           }
          ],
          "contourcarpet": [
           {
            "colorbar": {
             "outlinewidth": 0,
             "ticks": ""
            },
            "type": "contourcarpet"
           }
          ],
          "heatmap": [
           {
            "colorbar": {
             "outlinewidth": 0,
             "ticks": ""
            },
            "colorscale": [
             [
              0,
              "#0d0887"
             ],
             [
              0.1111111111111111,
              "#46039f"
             ],
             [
              0.2222222222222222,
              "#7201a8"
             ],
             [
              0.3333333333333333,
              "#9c179e"
             ],
             [
              0.4444444444444444,
              "#bd3786"
             ],
             [
              0.5555555555555556,
              "#d8576b"
             ],
             [
              0.6666666666666666,
              "#ed7953"
             ],
             [
              0.7777777777777778,
              "#fb9f3a"
             ],
             [
              0.8888888888888888,
              "#fdca26"
             ],
             [
              1,
              "#f0f921"
             ]
            ],
            "type": "heatmap"
           }
          ],
          "heatmapgl": [
           {
            "colorbar": {
             "outlinewidth": 0,
             "ticks": ""
            },
            "colorscale": [
             [
              0,
              "#0d0887"
             ],
             [
              0.1111111111111111,
              "#46039f"
             ],
             [
              0.2222222222222222,
              "#7201a8"
             ],
             [
              0.3333333333333333,
              "#9c179e"
             ],
             [
              0.4444444444444444,
              "#bd3786"
             ],
             [
              0.5555555555555556,
              "#d8576b"
             ],
             [
              0.6666666666666666,
              "#ed7953"
             ],
             [
              0.7777777777777778,
              "#fb9f3a"
             ],
             [
              0.8888888888888888,
              "#fdca26"
             ],
             [
              1,
              "#f0f921"
             ]
            ],
            "type": "heatmapgl"
           }
          ],
          "histogram": [
           {
            "marker": {
             "pattern": {
              "fillmode": "overlay",
              "size": 10,
              "solidity": 0.2
             }
            },
            "type": "histogram"
           }
          ],
          "histogram2d": [
           {
            "colorbar": {
             "outlinewidth": 0,
             "ticks": ""
            },
            "colorscale": [
             [
              0,
              "#0d0887"
             ],
             [
              0.1111111111111111,
              "#46039f"
             ],
             [
              0.2222222222222222,
              "#7201a8"
             ],
             [
              0.3333333333333333,
              "#9c179e"
             ],
             [
              0.4444444444444444,
              "#bd3786"
             ],
             [
              0.5555555555555556,
              "#d8576b"
             ],
             [
              0.6666666666666666,
              "#ed7953"
             ],
             [
              0.7777777777777778,
              "#fb9f3a"
             ],
             [
              0.8888888888888888,
              "#fdca26"
             ],
             [
              1,
              "#f0f921"
             ]
            ],
            "type": "histogram2d"
           }
          ],
          "histogram2dcontour": [
           {
            "colorbar": {
             "outlinewidth": 0,
             "ticks": ""
            },
            "colorscale": [
             [
              0,
              "#0d0887"
             ],
             [
              0.1111111111111111,
              "#46039f"
             ],
             [
              0.2222222222222222,
              "#7201a8"
             ],
             [
              0.3333333333333333,
              "#9c179e"
             ],
             [
              0.4444444444444444,
              "#bd3786"
             ],
             [
              0.5555555555555556,
              "#d8576b"
             ],
             [
              0.6666666666666666,
              "#ed7953"
             ],
             [
              0.7777777777777778,
              "#fb9f3a"
             ],
             [
              0.8888888888888888,
              "#fdca26"
             ],
             [
              1,
              "#f0f921"
             ]
            ],
            "type": "histogram2dcontour"
           }
          ],
          "mesh3d": [
           {
            "colorbar": {
             "outlinewidth": 0,
             "ticks": ""
            },
            "type": "mesh3d"
           }
          ],
          "parcoords": [
           {
            "line": {
             "colorbar": {
              "outlinewidth": 0,
              "ticks": ""
             }
            },
            "type": "parcoords"
           }
          ],
          "pie": [
           {
            "automargin": true,
            "type": "pie"
           }
          ],
          "scatter": [
           {
            "fillpattern": {
             "fillmode": "overlay",
             "size": 10,
             "solidity": 0.2
            },
            "type": "scatter"
           }
          ],
          "scatter3d": [
           {
            "line": {
             "colorbar": {
              "outlinewidth": 0,
              "ticks": ""
             }
            },
            "marker": {
             "colorbar": {
              "outlinewidth": 0,
              "ticks": ""
             }
            },
            "type": "scatter3d"
           }
          ],
          "scattercarpet": [
           {
            "marker": {
             "colorbar": {
              "outlinewidth": 0,
              "ticks": ""
             }
            },
            "type": "scattercarpet"
           }
          ],
          "scattergeo": [
           {
            "marker": {
             "colorbar": {
              "outlinewidth": 0,
              "ticks": ""
             }
            },
            "type": "scattergeo"
           }
          ],
          "scattergl": [
           {
            "marker": {
             "colorbar": {
              "outlinewidth": 0,
              "ticks": ""
             }
            },
            "type": "scattergl"
           }
          ],
          "scattermapbox": [
           {
            "marker": {
             "colorbar": {
              "outlinewidth": 0,
              "ticks": ""
             }
            },
            "type": "scattermapbox"
           }
          ],
          "scatterpolar": [
           {
            "marker": {
             "colorbar": {
              "outlinewidth": 0,
              "ticks": ""
             }
            },
            "type": "scatterpolar"
           }
          ],
          "scatterpolargl": [
           {
            "marker": {
             "colorbar": {
              "outlinewidth": 0,
              "ticks": ""
             }
            },
            "type": "scatterpolargl"
           }
          ],
          "scatterternary": [
           {
            "marker": {
             "colorbar": {
              "outlinewidth": 0,
              "ticks": ""
             }
            },
            "type": "scatterternary"
           }
          ],
          "surface": [
           {
            "colorbar": {
             "outlinewidth": 0,
             "ticks": ""
            },
            "colorscale": [
             [
              0,
              "#0d0887"
             ],
             [
              0.1111111111111111,
              "#46039f"
             ],
             [
              0.2222222222222222,
              "#7201a8"
             ],
             [
              0.3333333333333333,
              "#9c179e"
             ],
             [
              0.4444444444444444,
              "#bd3786"
             ],
             [
              0.5555555555555556,
              "#d8576b"
             ],
             [
              0.6666666666666666,
              "#ed7953"
             ],
             [
              0.7777777777777778,
              "#fb9f3a"
             ],
             [
              0.8888888888888888,
              "#fdca26"
             ],
             [
              1,
              "#f0f921"
             ]
            ],
            "type": "surface"
           }
          ],
          "table": [
           {
            "cells": {
             "fill": {
              "color": "#EBF0F8"
             },
             "line": {
              "color": "white"
             }
            },
            "header": {
             "fill": {
              "color": "#C8D4E3"
             },
             "line": {
              "color": "white"
             }
            },
            "type": "table"
           }
          ]
         },
         "layout": {
          "annotationdefaults": {
           "arrowcolor": "#2a3f5f",
           "arrowhead": 0,
           "arrowwidth": 1
          },
          "autotypenumbers": "strict",
          "coloraxis": {
           "colorbar": {
            "outlinewidth": 0,
            "ticks": ""
           }
          },
          "colorscale": {
           "diverging": [
            [
             0,
             "#8e0152"
            ],
            [
             0.1,
             "#c51b7d"
            ],
            [
             0.2,
             "#de77ae"
            ],
            [
             0.3,
             "#f1b6da"
            ],
            [
             0.4,
             "#fde0ef"
            ],
            [
             0.5,
             "#f7f7f7"
            ],
            [
             0.6,
             "#e6f5d0"
            ],
            [
             0.7,
             "#b8e186"
            ],
            [
             0.8,
             "#7fbc41"
            ],
            [
             0.9,
             "#4d9221"
            ],
            [
             1,
             "#276419"
            ]
           ],
           "sequential": [
            [
             0,
             "#0d0887"
            ],
            [
             0.1111111111111111,
             "#46039f"
            ],
            [
             0.2222222222222222,
             "#7201a8"
            ],
            [
             0.3333333333333333,
             "#9c179e"
            ],
            [
             0.4444444444444444,
             "#bd3786"
            ],
            [
             0.5555555555555556,
             "#d8576b"
            ],
            [
             0.6666666666666666,
             "#ed7953"
            ],
            [
             0.7777777777777778,
             "#fb9f3a"
            ],
            [
             0.8888888888888888,
             "#fdca26"
            ],
            [
             1,
             "#f0f921"
            ]
           ],
           "sequentialminus": [
            [
             0,
             "#0d0887"
            ],
            [
             0.1111111111111111,
             "#46039f"
            ],
            [
             0.2222222222222222,
             "#7201a8"
            ],
            [
             0.3333333333333333,
             "#9c179e"
            ],
            [
             0.4444444444444444,
             "#bd3786"
            ],
            [
             0.5555555555555556,
             "#d8576b"
            ],
            [
             0.6666666666666666,
             "#ed7953"
            ],
            [
             0.7777777777777778,
             "#fb9f3a"
            ],
            [
             0.8888888888888888,
             "#fdca26"
            ],
            [
             1,
             "#f0f921"
            ]
           ]
          },
          "colorway": [
           "#636efa",
           "#EF553B",
           "#00cc96",
           "#ab63fa",
           "#FFA15A",
           "#19d3f3",
           "#FF6692",
           "#B6E880",
           "#FF97FF",
           "#FECB52"
          ],
          "font": {
           "color": "#2a3f5f"
          },
          "geo": {
           "bgcolor": "white",
           "lakecolor": "white",
           "landcolor": "#E5ECF6",
           "showlakes": true,
           "showland": true,
           "subunitcolor": "white"
          },
          "hoverlabel": {
           "align": "left"
          },
          "hovermode": "closest",
          "mapbox": {
           "style": "light"
          },
          "paper_bgcolor": "white",
          "plot_bgcolor": "#E5ECF6",
          "polar": {
           "angularaxis": {
            "gridcolor": "white",
            "linecolor": "white",
            "ticks": ""
           },
           "bgcolor": "#E5ECF6",
           "radialaxis": {
            "gridcolor": "white",
            "linecolor": "white",
            "ticks": ""
           }
          },
          "scene": {
           "xaxis": {
            "backgroundcolor": "#E5ECF6",
            "gridcolor": "white",
            "gridwidth": 2,
            "linecolor": "white",
            "showbackground": true,
            "ticks": "",
            "zerolinecolor": "white"
           },
           "yaxis": {
            "backgroundcolor": "#E5ECF6",
            "gridcolor": "white",
            "gridwidth": 2,
            "linecolor": "white",
            "showbackground": true,
            "ticks": "",
            "zerolinecolor": "white"
           },
           "zaxis": {
            "backgroundcolor": "#E5ECF6",
            "gridcolor": "white",
            "gridwidth": 2,
            "linecolor": "white",
            "showbackground": true,
            "ticks": "",
            "zerolinecolor": "white"
           }
          },
          "shapedefaults": {
           "line": {
            "color": "#2a3f5f"
           }
          },
          "ternary": {
           "aaxis": {
            "gridcolor": "white",
            "linecolor": "white",
            "ticks": ""
           },
           "baxis": {
            "gridcolor": "white",
            "linecolor": "white",
            "ticks": ""
           },
           "bgcolor": "#E5ECF6",
           "caxis": {
            "gridcolor": "white",
            "linecolor": "white",
            "ticks": ""
           }
          },
          "title": {
           "x": 0.05
          },
          "xaxis": {
           "automargin": true,
           "gridcolor": "white",
           "linecolor": "white",
           "ticks": "",
           "title": {
            "standoff": 15
           },
           "zerolinecolor": "white",
           "zerolinewidth": 2
          },
          "yaxis": {
           "automargin": true,
           "gridcolor": "white",
           "linecolor": "white",
           "ticks": "",
           "title": {
            "standoff": 15
           },
           "zerolinecolor": "white",
           "zerolinewidth": 2
          }
         }
        },
        "title": {
         "text": "Owner of the different bike stands"
        },
        "width": 700,
        "xaxis": {
         "anchor": "y",
         "domain": [
          0,
          1
         ],
         "title": {
          "text": "Bike stand owner"
         }
        },
        "yaxis": {
         "anchor": "x",
         "domain": [
          0,
          1
         ],
         "title": {
          "text": "Amount of bike stands"
         }
        }
       }
      }
     },
     "metadata": {},
     "output_type": "display_data"
    }
   ],
   "source": [
    "stand_owner = df.groupby(\"stativ_ejer\", observed=False).size()\n",
    "\n",
    "fig = stand_owner.plot.bar(color_discrete_sequence=[col[2]], width=700, height=400)\n",
    "fig.update_layout(title=\"Owner of the different bike stands\", yaxis_title=\"Amount of bike stands\", xaxis_title=\"Bike stand owner\", showlegend=False)\n",
    "fig.show()"
   ]
  }
 ],
 "metadata": {
  "kernelspec": {
   "display_name": "Python 3",
   "language": "python",
   "name": "python3"
  },
  "language_info": {
   "codemirror_mode": {
    "name": "ipython",
    "version": 3
   },
   "file_extension": ".py",
   "mimetype": "text/x-python",
   "name": "python",
   "nbconvert_exporter": "python",
   "pygments_lexer": "ipython3",
   "version": "3.10.6"
  }
 },
 "nbformat": 4,
 "nbformat_minor": 2
}
