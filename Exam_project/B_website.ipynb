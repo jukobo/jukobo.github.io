{
 "cells": [
  {
   "cell_type": "markdown",
   "metadata": {},
   "source": [
    "# Project Assignment B: \"The Viz and the Notebook\"\n"
   ]
  },
  {
   "cell_type": "markdown",
   "metadata": {},
   "source": [
    "__A website with your visualizations and accompanying text.__ I recommend you structure it as one of the key types of data story (cf. the Segel paper). The website should tell the story about the data that you're interested in getting across.\n",
    "\n",
    "* The website should contain visualizations to let the reader explore the data that you're interested in getting across. Some them should be interactive.\n",
    "\n",
    "Your analysis behind the scenes can be technical and as advanced as you like (in fact the goal is to show you can combine data analysis, machine learning, and data visualization), but the website itself should not be technical, but rather aim at using visualization and explanation to get your data driven insights across to a non-scientific reader (think of a friend from DTU who hasn't taken this class as the audience).\n",
    "\n",
    "The idea is that you can create much more complex, dynamic and interactive analysis (and visualizations) using the dynamic possibilities that a website affords. It is a way for you to present your work in a way that everyone can understand it (like something you could show your parents).\n",
    "\n",
    "\n",
    "__More about the website__\n",
    "\n",
    "The main point of the website is to present your idea/analyses to the world in a way that showcases your use of what you've learned in class. The website should be self-contained and tell the story without the need for the details in the explainer notebook (the purpose of the explainer notebook is to provide additional details for interested/scientific readers)."
   ]
  }
 ],
 "metadata": {
  "language_info": {
   "name": "python"
  }
 },
 "nbformat": 4,
 "nbformat_minor": 2
}
