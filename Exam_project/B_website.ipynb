{
 "cells": [
  {
   "cell_type": "markdown",
   "metadata": {},
   "source": [
    "# Project Assignment B: \"The Viz and the Notebook\"\n"
   ]
  },
  {
   "cell_type": "markdown",
   "metadata": {},
   "source": [
    "__A website with your visualizations and accompanying text.__ I recommend you structure it as one of the key types of data story (cf. the Segel paper). The website should tell the story about the data that you're interested in getting across.\n",
    "\n",
    "* The website should contain visualizations to let the reader explore the data that you're interested in getting across. Some them should be interactive.\n",
    "\n",
    "Your analysis behind the scenes can be technical and as advanced as you like (in fact the goal is to show you can combine data analysis, machine learning, and data visualization), but the website itself should not be technical, but rather aim at using visualization and explanation to get your data driven insights across to a non-scientific reader (think of a friend from DTU who hasn't taken this class as the audience).\n",
    "\n",
    "The idea is that you can create much more complex, dynamic and interactive analysis (and visualizations) using the dynamic possibilities that a website affords. It is a way for you to present your work in a way that everyone can understand it (like something you could show your parents).\n",
    "\n",
    "\n",
    "__More about the website__\n",
    "\n",
    "The main point of the website is to present your idea/analyses to the world in a way that showcases your use of what you've learned in class. The website should be self-contained and tell the story without the need for the details in the explainer notebook (the purpose of the explainer notebook is to provide additional details for interested/scientific readers)."
   ]
  },
  {
   "cell_type": "markdown",
   "metadata": {},
   "source": [
    "Data om transport i cph:\n",
    "\n",
    "https://radkompetenz.at/wp-content/uploads/2022/03/Copenhagen-Mobility-facts-and-figures-2021.pdf"
   ]
  },
  {
   "cell_type": "markdown",
   "metadata": {},
   "source": [
    "# Disposition\n",
    "- Title: Usage of bikes in Copehagen\n",
    "- Introduction, about the data\n",
    "\n",
    "General:\n",
    "- Tendency, 168 hours bar chart (Interactive over years), bike count data\n",
    "- Tendency, monthly scatterplot with whiskers (Bokeh if possible ineractive slider over year)\n",
    "\n",
    "Distribution of bikeracks:\n",
    "- Geoplot bike racks in each districts, number of spots in general, m^2, population\n",
    "- Bike racks compared with population and bikecount, (interactive with district)"
   ]
  },
  {
   "cell_type": "markdown",
   "metadata": {},
   "source": [
    "# Introduction\n",
    "*Has to be rewritten*\n",
    "\n",
    "The capital of Denmark, Copenhagen, is known as the cycling city. In 2020 there was a total of 736,600 bikes, exceeding the number of privately owned cars in Copenhagen by more than. The City of Copenhagen has set political objectives aimed at reducing car-dependent travel and promote cycling, walking, and the use of public transportation. [Source]\n",
    "We want to investigate the localization, size and ownership of bike stands in the city to determine whether it is reasonable to expect more people to cycle in Copenhagen. We will be focussing on wether the different placements of the bike stands makes sense for the citizen.\n",
    "\n",
    "To establish this we use the dataset *Cykelstativer* from Opendata.dk, which has informative details about the bike stands within Copenhagen. From this dataset both the CSV file and GeoJSON file will be used to enable various plot options, which can help to get a better understanding of the data. In addition to these two files, the dataset called 'Bydele' will also be uesd, it comes from Opendata.dk as well. This data set includes a GeoJSON file, which makes it possible to show the different city parts."
   ]
  },
  {
   "cell_type": "markdown",
   "metadata": {},
   "source": [
    "# About the dataset\n",
    "We have removed all data where the number of bikespots in a bikestand is equal to 0."
   ]
  },
  {
   "cell_type": "markdown",
   "metadata": {},
   "source": [
    "statistics (Data: number of bikes in Copenhagen)\n",
    "\n",
    "<div style=\"margin-left: auto;\n",
    "            margin-right: auto;\n",
    "            width: 50%\">\n",
    "\n",
    "| 2005 | 2006 | 2007 | 2008 | 2009 | 2010 | 2011 | 2012 | 2013 | 2014 | \n",
    "|--------|---------|-----------|----------|--------|----------|--------|--------|--------|--------|\n",
    "|  4  |   12  | 12      | 12     | 13   | 13     | 13   |12   |13   |9   |\n",
    "\n",
    "\n",
    "\n",
    "_Table 1: Number of streets, where data is measured from._\n",
    "</div>"
   ]
  }
 ],
 "metadata": {
  "kernelspec": {
   "display_name": "Python 3",
   "language": "python",
   "name": "python3"
  },
  "language_info": {
   "codemirror_mode": {
    "name": "ipython",
    "version": 3
   },
   "file_extension": ".py",
   "mimetype": "text/x-python",
   "name": "python",
   "nbconvert_exporter": "python",
   "pygments_lexer": "ipython3",
   "version": "3.10.5"
  }
 },
 "nbformat": 4,
 "nbformat_minor": 2
}
