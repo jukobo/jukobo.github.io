{
 "cells": [
  {
   "cell_type": "code",
   "execution_count": null,
   "metadata": {},
   "outputs": [],
   "source": [
    "import pandas as pd\n",
    "import matplotlib.pyplot as plt\n",
    "import numpy as np\n",
    "import plotly.express as px\n",
    "\n",
    "#ignore warnings\n",
    "import warnings\n",
    "warnings.filterwarnings('ignore')\n",
    "\n",
    "pd.options.plotting.backend = \"plotly\""
   ]
  },
  {
   "cell_type": "code",
   "execution_count": null,
   "metadata": {},
   "outputs": [],
   "source": [
    "## Load data\n",
    "\n",
    "file = \"..\\..\\Data\\cykelstativ.csv\"\n",
    "df = pd.read_csv(file)\n",
    "\n",
    "df = df[df[\"antal_pladser\"] != 0]\n",
    "\n",
    "df.head()"
   ]
  },
  {
   "cell_type": "markdown",
   "metadata": {},
   "source": [
    "### Basic plots - The fundamental distributions of the data"
   ]
  },
  {
   "cell_type": "code",
   "execution_count": null,
   "metadata": {},
   "outputs": [],
   "source": [
    "## Amount of spots in bike stands\n",
    "\n",
    "print(\"Mean: \", np.mean(df[\"antal_pladser\"]))\n",
    "print(\"Minimum: \", np.min(df[\"antal_pladser\"]))\n",
    "print(\"Maximum: \", np.max(df[\"antal_pladser\"]))\n",
    "\n",
    "col = px.colors.qualitative.Dark2\n",
    "\n",
    "fig = px.histogram(df, x=\"antal_pladser\", title=\"Amount of spots in bike stands\", color_discrete_sequence=[col[2]])\n",
    "fig.update_layout(xaxis_title=\"Amount of spots\", yaxis_title=\"Occurences\")  \n",
    "fig.show()"
   ]
  },
  {
   "cell_type": "code",
   "execution_count": null,
   "metadata": {},
   "outputs": [],
   "source": [
    "## Bike stands divided into districts\n",
    "\n",
    "dist_amount = df.groupby(\"bydel\", observed=False).size()\n",
    "\n",
    "fig = dist_amount.plot.bar(color_discrete_sequence=[col[2]], width=700, height=400)\n",
    "fig.update_layout(title=\"Bike stands divided into districts\", yaxis_title=\"Amount of bike stands\", xaxis_title=\"District\", showlegend=False)\n",
    "fig.show()"
   ]
  },
  {
   "cell_type": "code",
   "execution_count": null,
   "metadata": {},
   "outputs": [],
   "source": [
    "## Bike stands divided into location\n",
    "\n",
    "place_amount = df.groupby(\"stativ_placering\", observed=False).size()\n",
    "\n",
    "fig = place_amount.plot.bar(color_discrete_sequence=[col[2]], width=700, height=400)\n",
    "fig.update_layout(title=\"Location of bike stands\", yaxis_title=\"Amount of bike stands\", xaxis_title=\"Bike stand location\", showlegend=False)\n",
    "fig.show()"
   ]
  },
  {
   "cell_type": "code",
   "execution_count": null,
   "metadata": {},
   "outputs": [],
   "source": [
    "## Bike stands divided into design\n",
    "\n",
    "stand_design = df.groupby(\"stativ_udformning\", observed=False).size()\n",
    "\n",
    "fig = stand_design.plot.bar(color_discrete_sequence=[col[2]], width=700, height=400)\n",
    "fig.update_layout(title=\"Bike stands per different stand design\", yaxis_title=\"Amount of bike stands\", xaxis_title=\"Bike stand design\", showlegend=False)\n",
    "fig.show()"
   ]
  },
  {
   "cell_type": "code",
   "execution_count": null,
   "metadata": {},
   "outputs": [],
   "source": [
    "## Owner of the different bike stands\n",
    "\n",
    "stand_owner = df.groupby(\"stativ_ejer\", observed=False).size()\n",
    "\n",
    "fig = stand_owner.plot.bar(color_discrete_sequence=[col[2]], width=700, height=400)\n",
    "fig.update_layout(title=\"Owner of the different bike stands\", yaxis_title=\"Amount of bike stands\", xaxis_title=\"Bike stand owner\", showlegend=False)\n",
    "fig.show()"
   ]
  }
 ],
 "metadata": {
  "language_info": {
   "name": "python"
  }
 },
 "nbformat": 4,
 "nbformat_minor": 2
}
