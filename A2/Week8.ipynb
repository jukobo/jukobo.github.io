{
 "cells": [
  {
   "cell_type": "markdown",
   "metadata": {},
   "source": [
    "# Part 2: A short data story / micro-project\n",
    "\n",
    "### Exercise: \n",
    "\n",
    "Create a short data-story based on the work we've done in class so far. (This exercise is a kind of \"micro version\" of what we'll be doing in the final project). Follow the directions in the bulleted list below when you create your data-story."
   ]
  },
  {
   "cell_type": "markdown",
   "metadata": {},
   "source": [
    "* __Find your own story to tell in the work on analyzing the SF Crime Data that we've done so far__ (Week 1 - Week 6). The idea is to choose an insight about crime in SF (perhaps how something changed over the years) and communicate that insight to a general audience reader.\n",
    "* The web-page should be hosted on your GitHub Pages site (Week 7).\n",
    "* The format must be the classic Magazine Genre presented on a single web-page (see the Segel & Heer paper for details).\n",
    "* The story should have a brief introduction to the dataset so new readers from outside the class can understand what's going on.\n",
    "* Your story should include three visualizations. Not more than three, not less than three (but multi-panel figures are OK). The figures should be one of each of the following types\n",
    "    * One time-series / bar chart (it's OK to use the \"fancy\" plot-typs like calendar plots or polar bar-charts from Week 2, Part 4).\n",
    "    * One map (use techniques from Week 3 and 4)\n",
    "    * One interactive visualization in Bokeh (Week 6)"
   ]
  },
  {
   "cell_type": "markdown",
   "metadata": {},
   "source": [
    "* __At a minimum, the Bokeh visualization should contain different data__ than the exercise we did for Week 6 (it's a plus if it's a new type of viz altogether).\n",
    "* The two other visualization may be repetitions of figures created during the previous lectures, or they may be new.\n",
    "* Make the figures nice. Specifically:\n",
    "    * Aim to make the figures visually consistent (color, fonts, etc)\n",
    "    * Follow the recommendations from my video on nice figures (Week 2, part 3)\n",
    "* In terms of the amount of text, I envision something like 500-1500 words (including figure captions). Try to write in your own words - the LLMs have a tendency to write a lot of text and not be so precise. So if the writing is all elegantly written but empty prose, we will be critical. It is OK, however, to have the LLM help you get the grammer, etc. right.\n",
    "* It is a plus if you can back up some of your findings with external sources, such as news stories from the area, looking up which building is located at some set of lat,lon coordinates, or similar. (So when you see something happening at some time/place in the data, see if you can understand it more deeply by investigating outside the dataset.) Use real references at the end of the text to organize your links to the outside world."
   ]
  },
  {
   "cell_type": "code",
   "execution_count": 2,
   "metadata": {},
   "outputs": [],
   "source": [
    "import pandas as pd\n",
    "import matplotlib.pyplot as plt"
   ]
  },
  {
   "cell_type": "code",
   "execution_count": 4,
   "metadata": {},
   "outputs": [],
   "source": [
    "## Load files\n",
    "\n",
    "file = \"..\\..\\Data\\Police_Department_Incident_Reports__Historical_2003_to_May_2018_20240130.csv\"\n",
    "\n",
    "df = pd.read_csv(file)\n",
    "df = df[df['Date'].str.contains('2018') == False]\n",
    "\n",
    "focuscrimes = set(['PROSTITUTION'])\n",
    "focusdf = df[df['Category'].isin(focuscrimes)]"
   ]
  },
  {
   "cell_type": "markdown",
   "metadata": {},
   "source": [
    "_One time-series / bar chart (it's OK to use the \"fancy\" plot-typs like calendar plots or polar bar-charts from Week 2, Part 4)._\n"
   ]
  },
  {
   "cell_type": "code",
   "execution_count": null,
   "metadata": {},
   "outputs": [],
   "source": [
    "# fig, axes = plt.subplots(7, 2, figsize=(20, 40))\n",
    "# fig.subplots_adjust(hspace=0.5)  # Adjust the vertical spacing between subplots\n",
    "\n",
    "# for i, crime in enumerate(focuscrimes):\n",
    "#     # Get the row and column index of the current crime\n",
    "#     row = i // 2\n",
    "#     col = i % 2\n",
    "#     # Get the data for the current crime\n",
    "#     years = focusdf[focusdf['Category'] == crime]['Date'].str.split('/').str[2].value_counts().sort_index()\n",
    "#     # Plot the data\n",
    "#     axes[row, col].bar(years.index, years)\n",
    "#     axes[row, col].set_title(crime)\n",
    "#     axes[row, col].set_xticklabels(years.index, rotation=90)\n",
    "#     axes[row, col].set_ylabel('Occurences')\n",
    "#     if row == 6:\n",
    "#         axes[row, col].set_xlabel('Y e a r')\n",
    "\n",
    "\n",
    "# plt.show()"
   ]
  },
  {
   "cell_type": "markdown",
   "metadata": {},
   "source": [
    "_One map (use techniques from Week 3 and 4)_\n"
   ]
  },
  {
   "cell_type": "markdown",
   "metadata": {},
   "source": [
    "_One interactive visualization in Bokeh (Week 6)_"
   ]
  }
 ],
 "metadata": {
  "kernelspec": {
   "display_name": "Python 3",
   "language": "python",
   "name": "python3"
  },
  "language_info": {
   "codemirror_mode": {
    "name": "ipython",
    "version": 3
   },
   "file_extension": ".py",
   "mimetype": "text/x-python",
   "name": "python",
   "nbconvert_exporter": "python",
   "pygments_lexer": "ipython3",
   "version": "3.10.6"
  }
 },
 "nbformat": 4,
 "nbformat_minor": 2
}
